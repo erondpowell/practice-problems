{
 "cells": [
  {
   "cell_type": "markdown",
   "metadata": {},
   "source": [
    "# Experimental Data P1"
   ]
  },
  {
   "cell_type": "markdown",
   "metadata": {},
   "source": [
    "This section dives into using linear regression to predict how well we can trust experimental data collected.\n",
    "First, we will take a look at spring compressions."
   ]
  },
  {
   "cell_type": "markdown",
   "metadata": {},
   "source": [
    "Hooke's Law: F = -kd\n",
    "Determines how much Force is stored in a spring. Force = -(spring stiffness) * distance"
   ]
  },
  {
   "cell_type": "markdown",
   "metadata": {},
   "source": [
    "Using the formula, compute k from the second experimental observation: m = 0.15 kg, x = 0.1015 m.\n",
    "\n",
    "Use 9.81 m/s^2 as the gravitational constant (g). Enter your answer to at least 1 decimal place of accuracy.\n",
    "\n",
    "k ="
   ]
  },
  {
   "cell_type": "code",
   "execution_count": 1,
   "metadata": {},
   "outputs": [
    {
     "name": "stdout",
     "output_type": "stream",
     "text": [
      "14.497536945812808\n"
     ]
    }
   ],
   "source": [
    "m = 0.15 #kg\n",
    "x = 0.1015 #meters\n",
    "g = 9.81 #acceleration from gravtiy = meters/second^2\n",
    "force = m * g #force = mass * acceleration\n",
    "\n",
    "print(force/x)"
   ]
  },
  {
   "cell_type": "markdown",
   "metadata": {},
   "source": [
    "In the following sections, we will implement a linear regression model to predict how distorted the spring gets as weight gets increased. \n",
    "\n",
    "- Several possible linear regression lines that could fit the data.\n",
    "- We don't know what order of polynomial will yield best results.\n",
    "- We create every order of polynomial and pick the one that fits best.\n",
    "\n",
    "Actually, higher order polynomials will almost always fit the model better. the problem though, as yoou will find out shortly, is that picking too high of a polynomial will fit the sample data perfectly, but won't be a good general fit for other similar problems."
   ]
  },
  {
   "cell_type": "markdown",
   "metadata": {},
   "source": [
    "## Part 1"
   ]
  },
  {
   "cell_type": "markdown",
   "metadata": {},
   "source": [
    "We are finna plot out some data for the experiment where we strecth out a string with weights to see how long it gets.\n",
    "A big problem is that sometimes we kinda buttercupped the length measurements or maybe didn't know exactly how much the weight turly weighed. Which is not good. It causes error. So we need to eventually fit a regression line onto it to try and predict the length strectched at any given weight. \n",
    "\n",
    "In part 1, we are simply going to snipe the x and y values from a csv file and plot them out. \n",
    "\n",
    "Insanely swag. Let's do it."
   ]
  },
  {
   "cell_type": "code",
   "execution_count": 2,
   "metadata": {},
   "outputs": [],
   "source": [
    "import random, pylab, numpy"
   ]
  },
  {
   "cell_type": "code",
   "execution_count": 3,
   "metadata": {},
   "outputs": [],
   "source": [
    "#set line width\n",
    "pylab.rcParams['lines.linewidth'] = 4\n",
    "#set font size for titles \n",
    "pylab.rcParams['axes.titlesize'] = 20\n",
    "#set font size for labels on axes\n",
    "pylab.rcParams['axes.labelsize'] = 20\n",
    "#set size of numbers on x-axis\n",
    "pylab.rcParams['xtick.labelsize'] = 16\n",
    "#set size of numbers on y-axis\n",
    "pylab.rcParams['ytick.labelsize'] = 16\n",
    "#set size of ticks on x-axis\n",
    "pylab.rcParams['xtick.major.size'] = 7\n",
    "#set size of ticks on y-axis\n",
    "pylab.rcParams['ytick.major.size'] = 7\n",
    "#set size of markers\n",
    "pylab.rcParams['lines.markersize'] = 10\n",
    "#set number of examples shown in legends\n",
    "pylab.rcParams['legend.numpoints'] = 1"
   ]
  },
  {
   "cell_type": "markdown",
   "metadata": {},
   "source": [
    "This code opens a file (assumably just csv files) with data, discards the header, then splits each row of data and appends it into `d` and `m`. After that, these are appended into the lists `distances` and `masses`. These lists are returned as a tuple."
   ]
  },
  {
   "cell_type": "code",
   "execution_count": 4,
   "metadata": {},
   "outputs": [],
   "source": [
    "def getData(fileName):\n",
    "    dataFile = open(fileName, 'r')\n",
    "    distances = []\n",
    "    masses = []\n",
    "    dataFile.readline() #discard header\n",
    "    for line in dataFile:\n",
    "        d, m = line.split()\n",
    "        distances.append(float(d))\n",
    "        masses.append(float(m))\n",
    "    dataFile.close()\n",
    "    return (masses, distances)"
   ]
  },
  {
   "cell_type": "markdown",
   "metadata": {},
   "source": [
    "`labelPlot` simply slaps labels on your plot, seems like it will get called inside another function."
   ]
  },
  {
   "cell_type": "code",
   "execution_count": 5,
   "metadata": {},
   "outputs": [],
   "source": [
    "def labelPlot():\n",
    "    pylab.title('Measured Displacement of Spring')\n",
    "    pylab.xlabel('|Force| (Newtons)')\n",
    "    pylab.ylabel('Distance (meters)')"
   ]
  },
  {
   "cell_type": "markdown",
   "metadata": {},
   "source": [
    "`plotData` calls `getData` and unpacks the `masses` and `distances` from  the returned tuple, then stores them as `xVals` and `yVals`, respectively. `xVals` and `yVals` are both converted to pylab arrays, the `xVals` get multiplied by acceleration due to gravity, then get plotted. Then the `labelPlot` helper function is called."
   ]
  },
  {
   "cell_type": "code",
   "execution_count": 6,
   "metadata": {},
   "outputs": [],
   "source": [
    "def plotData(fileName):\n",
    "    xVals, yVals = getData(fileName)\n",
    "    xVals = pylab.array(xVals)\n",
    "    yVals = pylab.array(yVals)\n",
    "    xVals = xVals*9.81  #acc. due to gravity\n",
    "    pylab.plot(xVals, yVals, 'bo',\n",
    "               label = 'Measured displacements')\n",
    "    labelPlot()"
   ]
  },
  {
   "cell_type": "markdown",
   "metadata": {},
   "source": [
    "Laying pipe with the above function."
   ]
  },
  {
   "cell_type": "code",
   "execution_count": 7,
   "metadata": {},
   "outputs": [
    {
     "data": {
      "image/png": "[encoded data removed]",
      "text/plain": [
       "<Figure size 432x288 with 1 Axes>"
      ]
     },
     "metadata": {
      "needs_background": "light"
     },
     "output_type": "display_data"
    }
   ],
   "source": [
    "plotData('springData.txt')"
   ]
  },
  {
   "cell_type": "markdown",
   "metadata": {},
   "source": [
    "## Part 2"
   ]
  },
  {
   "cell_type": "markdown",
   "metadata": {},
   "source": [
    "Based on the names of the functions below, I'm guessing it's time to fit some data! Let's zorp it out really quick.\n",
    "\n",
    "- Unpacks `getData`, makes the lists of x and y vals into arrays. \n",
    "- Multiples the x vals by gravtiy velocity to get force.\n",
    "- Plots the data.\n",
    "- Labels the plot.\n",
    "- Calls pylab.polyfit(), passing in x and y values, with a degree of 1. \n",
    "        (AKA a y=mx+b linear regression model)\n",
    "- Unpacks estimated coefficients from polyfit into `a` and `b`\n",
    "- Estimates the y values\n",
    "- Prints the coefficient values stored in `a` and `b`\n",
    "- Plots the regression model on the same graph as the sample data with custom label, color and line type.\n",
    "- Notice the label is the inverse of `a`. This is because `a` is rise over run (aka spring displacement / weight)\n",
    "        But the k value for our Hooke's law equation is  (weight / spring displacement)\n",
    "- Adds a legend."
   ]
  },
  {
   "cell_type": "code",
   "execution_count": 8,
   "metadata": {},
   "outputs": [],
   "source": [
    "def fitData(fileName):\n",
    "    xVals, yVals = getData(fileName)\n",
    "    xVals = pylab.array(xVals)\n",
    "    yVals = pylab.array(yVals)\n",
    "    xVals = xVals*9.81 #get force\n",
    "    pylab.plot(xVals, yVals, 'bo',\n",
    "               label = 'Measured points')\n",
    "    labelPlot()                 \n",
    "    a,b = pylab.polyfit(xVals, yVals, 1)\n",
    "    estYVals = a*xVals + b\n",
    "    print('a =', a, 'b =', b)\n",
    "    pylab.plot(xVals, estYVals, 'r', label = 'Linear fit, k = '+ str(round(1/a, 5)))\n",
    "    pylab.legend(loc = 'best')"
   ]
  },
  {
   "cell_type": "markdown",
   "metadata": {},
   "source": [
    "Calls out that insanely swaggy func from above with values from `springData.txt`"
   ]
  },
  {
   "cell_type": "code",
   "execution_count": 9,
   "metadata": {},
   "outputs": [
    {
     "name": "stdout",
     "output_type": "stream",
     "text": [
      "a = 0.046432033192052496 b = 0.0656285964912282\n"
     ]
    },
    {
     "data": {
      "image/png": "[encoded data removed]",
      "text/plain": [
       "<Figure size 432x288 with 1 Axes>"
      ]
     },
     "metadata": {
      "needs_background": "light"
     },
     "output_type": "display_data"
    }
   ],
   "source": [
    "fitData('springData.txt')"
   ]
  },
  {
   "cell_type": "markdown",
   "metadata": {},
   "source": [
    "This code does the same thing as `fitData()`, except that the method for generating the regression line has changed:\n",
    "- `polyfit()` is stored as `model`\n",
    "- `polyval(model, xVals)` replaces `a*xVals + b`"
   ]
  },
  {
   "cell_type": "code",
   "execution_count": 12,
   "metadata": {},
   "outputs": [],
   "source": [
    "def fitData1(fileName):\n",
    "    xVals, yVals = getData(fileName)\n",
    "    xVals = pylab.array(xVals)\n",
    "    yVals = pylab.array(yVals)\n",
    "    xVals = xVals*9.81 #get force\n",
    "    pylab.plot(xVals, yVals, 'bo',\n",
    "               label = 'Measured points')\n",
    "    labelPlot()                 \n",
    "    model = pylab.polyfit(xVals, yVals, 1)\n",
    "    estYVals = pylab.polyval(model, xVals) #DIFFERENT FROM FUNCTION  fitData()\n",
    "    pylab.plot(xVals, estYVals, 'r', label = 'Linear fit, k = ' + str(round(1/model[0], 5)))  # 1/model[0] == 1/a\n",
    "    pylab.legend(loc = 'best')"
   ]
  },
  {
   "cell_type": "code",
   "execution_count": 13,
   "metadata": {},
   "outputs": [
    {
     "data": {
      "image/png": "[encoded data removed]",
      "text/plain": [
       "<Figure size 432x288 with 1 Axes>"
      ]
     },
     "metadata": {
      "needs_background": "light"
     },
     "output_type": "display_data"
    }
   ],
   "source": [
    "fitData1('springData.txt')"
   ]
  },
  {
   "cell_type": "code",
   "execution_count": null,
   "metadata": {},
   "outputs": [],
   "source": [
    "#def genParabolicData(a, b, c, xVals, fracOutliers):\n",
    "#    yVals = []\n",
    "#    for x in xVals:\n",
    "#        theoreticalVal = a*x**2 + b*x + c\n",
    "#        if random.random() > fracOutliers:\n",
    "#            yVals.append(theoreticalVal\\\n",
    "#            + random.gauss(0, 1000))\n",
    "#        else: #generate outlier\n",
    "#            yVals.append(theoreticalVal\\\n",
    "#            + random.gauss(0, theoreticalVal*2))\n",
    "#    return yVals\n",
    "#    \n",
    "##parameters for generating data\n",
    "#xVals = range(-50, 51, 5)\n",
    "#a, b, c = 3.0, 0.0, 0.0\n",
    "#fracOutlier = 0.00\n",
    "#\n",
    "##generate data\n",
    "#random.seed(0)\n",
    "#yVals = genParabolicData(a, b, c, xVals, fracOutlier)\n",
    "#pylab.plot(xVals, yVals, 'o', label = 'Data Points')\n",
    "#pylab.title('Mystery Data')\n",
    "#\n",
    "##Try linear model\n",
    "#model1 = pylab.polyfit(xVals, yVals, 1)\n",
    "#pylab.plot(xVals, pylab.polyval(model1, xVals),\n",
    "#           label = 'Linear Model')\n",
    "#\n",
    "##Try a quadratic model\n",
    "#model2 = pylab.polyfit(xVals, yVals, 2)\n",
    "#pylab.plot(xVals, pylab.polyval(model2, xVals),\n",
    "#           'r--', label = 'Quadratic Model')\n",
    "#pylab.legend()"
   ]
  },
  {
   "cell_type": "markdown",
   "metadata": {},
   "source": [
    "## Part 3"
   ]
  },
  {
   "cell_type": "code",
   "execution_count": null,
   "metadata": {},
   "outputs": [],
   "source": [
    "#\n",
    "##Compare models\n",
    "#def aveMeanSquareError(data, predicted):\n",
    "#    error = 0.0\n",
    "#    for i in range(len(data)):\n",
    "#        error += (data[i] - predicted[i])**2\n",
    "#    return error/len(data)\n",
    "\n",
    "#estYVals = pylab.polyval(model1, xVals)  \n",
    "#print('Ave. mean square error for linear model =',\n",
    "#      aveMeanSquareError(yVals, estYVals))\n",
    "#estYVals = pylab.polyval(model2, xVals)\n",
    "#print('Ave. mean square error for quadratic model =',\n",
    "#      aveMeanSquareError(yVals, estYVals))"
   ]
  },
  {
   "cell_type": "code",
   "execution_count": null,
   "metadata": {},
   "outputs": [],
   "source": [
    "def rSquared(observed, predicted):\n",
    "    error = ((predicted - observed)**2).sum()\n",
    "    meanError = error/len(observed)\n",
    "    return 1 - (meanError/numpy.var(observed))"
   ]
  },
  {
   "cell_type": "code",
   "execution_count": null,
   "metadata": {},
   "outputs": [],
   "source": [
    "def genFits(xVals, yVals, degrees):\n",
    "    models = []\n",
    "    for d in degrees:\n",
    "        model = pylab.polyfit(xVals, yVals, d)\n",
    "        models.append(model)\n",
    "    return models"
   ]
  },
  {
   "cell_type": "code",
   "execution_count": null,
   "metadata": {},
   "outputs": [],
   "source": [
    "def testFits(models, degrees, xVals, yVals, title):\n",
    "    pylab.plot(xVals, yVals, 'o', label = 'Data')\n",
    "    for i in range(len(models)):\n",
    "        estYVals = pylab.polyval(models[i], xVals)\n",
    "        error = rSquared(yVals, estYVals)\n",
    "        pylab.plot(xVals, estYVals,\n",
    "                   label = 'Fit of degree '\\\n",
    "                   + str(degrees[i])\\\n",
    "                   + ', R2 = ' + str(round(error, 5)))\n",
    "    pylab.legend(loc = 'best')\n",
    "    pylab.title(title)"
   ]
  },
  {
   "cell_type": "code",
   "execution_count": null,
   "metadata": {},
   "outputs": [],
   "source": [
    "xVals, yVals = getData('mysteryData.txt')\n",
    "#degrees = (1, 2)\n",
    "#models = genFits(xVals, yVals, degrees)\n",
    "#testFits(models, degrees, xVals, yVals, 'Mystery Data')\n",
    "\n",
    "#Compare higher-order fits\n",
    "degrees = (2, 4, 8, 16)\n",
    "models = genFits(xVals, yVals, degrees)\n",
    "testFits(models, degrees, xVals, yVals, 'Mystery Data')"
   ]
  },
  {
   "cell_type": "code",
   "execution_count": null,
   "metadata": {},
   "outputs": [],
   "source": [
    "#def genParabolicData(a, b, c, xVals, fracOutliers):\n",
    "#    yVals = []\n",
    "#    for x in xVals:\n",
    "#        theoreticalVal = a*x**2 + b*x + c\n",
    "#        if random.random() > fracOutliers:\n",
    "#            yVals.append(theoreticalVal\\\n",
    "#            + random.gauss(0, 35))\n",
    "#        else: #generate outlier\n",
    "#            yVals.append(theoreticalVal\\\n",
    "#            + random.gauss(0, theoreticalVal*2))\n",
    "#    f = open('mystery.txt','w')\n",
    "#    f.write('x        y\\n')\n",
    "#    for i in range(len(yVals)):\n",
    "#        f.write(str(yVals[i]) + ' ' + str(xVals[i]) + '\\n')\n",
    "#    f.close()\n",
    "#    return yVals\n",
    "#    \n",
    "##parameters for generating data\n",
    "#xVals = range(-10, 11, 1)\n",
    "#a, b, c = 3.0, 0.0, 0.0\n",
    "#fracOutlier = 0.00\n",
    "#\n",
    "##generate data\n",
    "#random.seed(0)\n",
    "#yVals = genParabolicData(a, b, c, xVals, fracOutlier)"
   ]
  }
 ],
 "metadata": {
  "kernelspec": {
   "display_name": "Python 3",
   "language": "python",
   "name": "python3"
  },
  "language_info": {
   "codemirror_mode": {
    "name": "ipython",
    "version": 3
   },
   "file_extension": ".py",
   "mimetype": "text/x-python",
   "name": "python",
   "nbconvert_exporter": "python",
   "pygments_lexer": "ipython3",
   "version": "3.8.5"
  }
 },
 "nbformat": 4,
 "nbformat_minor": 4
}
