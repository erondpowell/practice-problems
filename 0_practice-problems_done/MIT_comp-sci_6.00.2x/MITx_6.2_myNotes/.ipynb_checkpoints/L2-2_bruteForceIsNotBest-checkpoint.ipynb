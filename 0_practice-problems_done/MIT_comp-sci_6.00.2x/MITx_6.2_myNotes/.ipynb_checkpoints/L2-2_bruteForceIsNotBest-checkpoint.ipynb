{
 "cells": [
  {
   "cell_type": "markdown",
   "metadata": {},
   "source": [
    "# Speeding up Exponential Complexity"
   ]
  },
  {
   "cell_type": "markdown",
   "metadata": {},
   "source": [
    "The last menu only had 8 items. It's not very big. We know that exponential computational complexity O(2^i) gets exponentially slower as `i` increases. So now, *let's take a look at just how quickly our decision tree slows down*. Instead of just using 8 items, let's run it on truly large menu."
   ]
  },
  {
   "cell_type": "markdown",
   "metadata": {},
   "source": [
    "```python\n",
    "import random\n",
    "\n",
    "\n",
    "def buildLargeMenu(numItems, maxVal, maxCost):\n",
    "    # Creates Food items with a randomly generated weight and value.\n",
    "    # Food item name is not important for this calculation. \n",
    "    # The foods will use a string of their index value as a name.\n",
    "    # Appends Food to menu items.\n",
    "    items = []\n",
    "    \n",
    "    #This randomly assigns a value and weight\n",
    "    for i in range(numItems):\n",
    "        items.append(Food(str(i),\n",
    "                     random.randint(1, maxVal),\n",
    "                     random.randint(1, maxCost)))\n",
    "    return items\n",
    "\n",
    "\n",
    "#Let's run testmaxVal on some 'menus' with a gradually increasing numItems:\n",
    "for numItems in (5, 10, 15, 20, 25, 30, 35, 40, 45):\n",
    "    items = buildLargeMenus(numItems, 90, 250)\n",
    "    textMaxVal(items, 750, False)\n",
    "```       "
   ]
  },
  {
   "cell_type": "markdown",
   "metadata": {},
   "source": [
    "Again, the time it takes to get to the optimal solution will increase to the power of `i`. After a certain point, it gets prohibitively long to wait around for an answer form the brute force algorithm. \n",
    "\n",
    "Now we are in a difficult position. So far, greedy algorithms don't work when we need a truly optimal solution. Brute Force algorithms take a long time to iterate through every possibility.\n",
    "\n",
    "How could we cut this time down?? As we saw in the recursive decision tree, the algorithem can avoid calculating solutions know to be too big/incorrect. BUT... This speeds the algorithm up some, but not much. It is still exponential complexity. \n",
    "\n",
    "Let's take a look at another type of optimization that comes from dynamic programming."
   ]
  },
  {
   "cell_type": "markdown",
   "metadata": {},
   "source": [
    "# Dynamic Programming"
   ]
  },
  {
   "cell_type": "markdown",
   "metadata": {},
   "source": [
    "In the above example, every single menu item has a unique weight and value. However, when you are eating things (or robbing a house). there are usually duplicate values with the same weight and value (you can eat 2 salads or steal 12 silver spoons).  When this is the case, a recursive problem like the one from last lesson would waste a lot of time recalculating things twice.\n",
    "\n",
    "If you want to find Nth value of fibonacci recursively, you will be calculating a lot of the same things over and over again."
   ]
  },
  {
   "cell_type": "code",
   "execution_count": null,
   "metadata": {},
   "outputs": [],
   "source": [
    "# Read through this function\n",
    "def fib(n):\n",
    "    if n == 0 or n == 1:\n",
    "        return 1\n",
    "    else:\n",
    "        return fib(n-1) + fib(n-2)\n",
    "    \n",
    "for i in range(0, 50):   \n",
    "    print(fib(i))\n",
    "    \n",
    "# This code will try to find the first 50 numbers in the fibonacci sequence\n",
    "# When you lose patience, hit STOP to interrupt the cell"
   ]
  },
  {
   "cell_type": "markdown",
   "metadata": {},
   "source": [
    "Notice how this starts off super fast and within seconds, starts to return answers at a painfully slow speed. Don't"
   ]
  },
  {
   "cell_type": "markdown",
   "metadata": {},
   "source": [
    "INSERT IMAGE OF FIBONACCCI NODES"
   ]
  },
  {
   "cell_type": "code",
   "execution_count": null,
   "metadata": {},
   "outputs": [],
   "source": []
  }
 ],
 "metadata": {
  "kernelspec": {
   "display_name": "Python 3",
   "language": "python",
   "name": "python3"
  },
  "language_info": {
   "codemirror_mode": {
    "name": "ipython",
    "version": 3
   },
   "file_extension": ".py",
   "mimetype": "text/x-python",
   "name": "python",
   "nbconvert_exporter": "python",
   "pygments_lexer": "ipython3",
   "version": "3.8.5"
  }
 },
 "nbformat": 4,
 "nbformat_minor": 4
}
