{
 "cells": [
  {
   "cell_type": "markdown",
   "metadata": {},
   "source": [
    "# Brute Force vs. Greedy Optimization"
   ]
  },
  {
   "cell_type": "markdown",
   "metadata": {},
   "source": [
    "We have a 0/1 knapsack problem where we want to go on a diet. That is, we have a menu of foods we can eat and we want to find out which foods we should eat to stay under a certain calorie limit. We obviously want to maximize the value of our foods.\n",
    "\n",
    "The code consists of 7 functions and 1 class. Some of these funcs help calculate the locally optimal solutions and some help calculate the truly optimal solution. Funcs `testGreedys` and `testmaxVal` are the only two a user will explicitly call. \n",
    "\n",
    "Let's walk step-by-step to see how the code for these two programs work."
   ]
  },
  {
   "cell_type": "markdown",
   "metadata": {},
   "source": [
    "Below, we create the class `Food`. This class is used in both the locally and truly optimal algorithms. Every food item must have a:\n",
    "\n",
    "- `name`\n",
    "- `value`  (*how much we like the food*)\n",
    "- `weight` (*calories*)\n",
    "\n",
    "### Note:\n",
    "The words ***value*** and ***weight*** come from the mathematical formulation of 0/1 knapsack problems. They need not be any traditional notion of value or weight. Value refers to how preferential a choice is compared to the others. In our program below, it could be how tasty the food is, how much you like the sound of the name of foods, or how 'healthy' the food is. Weight refers to how much the choice  *costs*. It could be amount of calories, price of the food, time to cook, or anything else.\n",
    "\n",
    "Again, in our problem below, let's think of `value` as how tasty the food is and `weight` as number of calories."
   ]
  },
  {
   "cell_type": "code",
   "execution_count": 31,
   "metadata": {},
   "outputs": [],
   "source": [
    "class Food(object):\n",
    "    def __init__(self, n, v, w):\n",
    "        self.name = n\n",
    "        self.value = v\n",
    "        self.calories = w\n",
    "    def getValue(self):\n",
    "        return self.value\n",
    "    def getCost(self):\n",
    "        return self.calories\n",
    "    def density(self):\n",
    "        return self.getValue()/self.getCost()\n",
    "    def __str__(self):\n",
    "        return self.name + ': <' + str(self.value)\\\n",
    "                 + ', ' + str(self.calories) + '>'"
   ]
  },
  {
   "cell_type": "markdown",
   "metadata": {},
   "source": [
    "Look at `buildMenu` func below. This func takes in three lists (`names`, `values`, and `calories`) as arguments and constructs a list (aka menu) of items type Food which we will consider eating. The 3 lists taken in need be of equal length because `buildMenu` iterates over them to create `Food` objects and assign them attributes. This func is used in both the locally and truly optimal solutions."
   ]
  },
  {
   "cell_type": "code",
   "execution_count": 54,
   "metadata": {},
   "outputs": [],
   "source": [
    "def buildMenu(names, values, calories):\n",
    "    menu = []\n",
    "    for i in range(len(values)):\n",
    "        menu.append(Food(names[i], values[i],\n",
    "                          calories[i]))\n",
    "    return menu"
   ]
  },
  {
   "cell_type": "markdown",
   "metadata": {},
   "source": [
    "Next is `greedy` func, which calculates locally optimal solutions. This func will return `result` (a list of locally optimal items) and the `totalValue` of those foods, all while staying under our diet's calorie restriction limit `maxCost`. Look over the func, then come back to finish reading this section.\n",
    "\n",
    "- `items`: list of food items to select from\n",
    "- `maxCost`: the limiter\n",
    "- `keyFunction`: This lets us set the key param in sorted() to any func we want.\n",
    "##### Note: If you don't know what the `key` param does in `sorted(iterable, key, reverse)` Google it right now.\n",
    "\n",
    "\n",
    "- `itemsCopy` stores a sorted list of foods ranked from highest-to-lowest. \n",
    "##### Note: The `Food` objects from list `items` are passed through `keyFunction`. These returned values are sorted, *not the original `Food` objects in the list*.\n",
    "##### Note: Since we set `reverse = True`, items are sorted from greatest to least.\n",
    "\n",
    "\n",
    "- `totalValue` and `totalCost` are both initially set to 0.0 .... (these are used as counter variables)\n",
    "- The for loop iterates through `itemsCopy`. \n",
    "- If (calories for foods we will eat) + (calories of `itemsCopy[i]`) <= (calories for the day): \n",
    "    - `result.append(itemsCopy[i])` puts food item in the bag.\n",
    "    - update `totalCost` to compare against `maxCost` (the limiter) on the next iteration.\n",
    "    - `totalValue` is updated. This is a value we are going to return.\n",
    "\n",
    "- After that, `result` (list of foods we will eat) and `totalValue` (how happy we are about eating these foods) are returned.\n",
    "\n",
    "#### Note:\n",
    "The *optimization* behind this func really comes from `itemsCopy = sorted(iterable, key = keyFunction, reverse = True)`. \n",
    "\n",
    "`sorted()` sorts the list of foods high-to-low, based on a metric we define in `keyFunction`. For example:\n",
    "- add in the most delicious foods first while `totalCost` <= `maxCost`\n",
    "- add in the lowest calorie foods while `totalCost` < `maxCost`\n",
    "- add in the most flavor dense foods (value/calorie) while `totalCost` <= `maxCost`\n",
    "\n",
    "In essence, `keyFunction` defines ranking system for foods you would prefer to eat. You could dream up other ways to rank the foods as well, but we're not going to today. `testGreedys` (the func after `greedy`) simply uses the above 3 ranking systems for `keyFunction`."
   ]
  },
  {
   "cell_type": "code",
   "execution_count": 59,
   "metadata": {},
   "outputs": [],
   "source": [
    "def greedy(items, maxCost, keyFunction):\n",
    "    \"\"\"Assumes items a list, maxCost >= 0,\n",
    "         keyFunction maps elements of Items to numbers\"\"\"\n",
    "    itemsCopy = sorted(items, key = keyFunction,\n",
    "                       reverse = True)\n",
    "    result = []\n",
    "    totalValue, totalCost = 0.0, 0.0\n",
    "    for i in range(len(itemsCopy)):\n",
    "        if (totalCost+itemsCopy[i].getCost()) <= maxCost:\n",
    "            result.append(itemsCopy[i])\n",
    "            totalCost += itemsCopy[i].getCost()\n",
    "            totalValue += itemsCopy[i].getValue()\n",
    "    return (result, totalValue)"
   ]
  },
  {
   "cell_type": "markdown",
   "metadata": {},
   "source": [
    "`testGreedy` func runs `greedy` with some given `keyFunction`. It then prints the total value of all items `val` as well as attributes for each individual food item (as defined in the dunder `__str__()` method for classs `Food`).\n",
    "\n",
    "In this function:\n",
    "- `taken` & `val` = `results` & `totalValue` from `greedy`\n",
    "- `greedy` is executed with:\n",
    "| testGreedy      | greedy       |\n",
    "| ----------------|:------------:|\n",
    "| `items`-------->| `items`      |\n",
    "| `constraint`--->| `maxCost`    |\n",
    "| `keyFunction`-->| `keyFunction`|\n"
   ]
  },
  {
   "cell_type": "code",
   "execution_count": 60,
   "metadata": {},
   "outputs": [],
   "source": [
    "def testGreedy(items, constraint, keyFunction):\n",
    "    taken, val = greedy(items, constraint, keyFunction)\n",
    "    print('Total value of items taken =', val)\n",
    "    for item in taken:\n",
    "        print('   ', item)"
   ]
  },
  {
   "cell_type": "markdown",
   "metadata": {},
   "source": [
    "Given below, `testGreedys` is going to return 3 locally optimal solutions by calling `greedy` 3 times, with 3 different funcs stored in `keyFunction`. \n",
    "- **greedy by value**: `Food.getValue`. This sorts the foods from highest to lowest value.\n",
    "- **greedy by cost**: `lambda x: 1/Food.getCost(x)`. This orders food by smallest number of calories to largest.\n",
    "\n",
    "    *Most people on a diet prefer foods with fewer calories!*\n",
    "    \n",
    "- **greedy by density**: `Food.density`. This sorts from highest (value per calorie) to lowest (value per calorie)."
   ]
  },
  {
   "cell_type": "markdown",
   "metadata": {},
   "source": [
    "#### Note on keyFunction values: \n",
    "It may be tricky to understand what's happening here at first. Why are two of the `keyFunction` params using a method while one uses a lambda? Why is lambda taking in `x`? Why don't the others have an x value??\n",
    "\n",
    "This goes back to the use of `sorted()` in the `greedy` func. Each element is passed into the function defined by `key`, then those returned values get sorted (instead of the original elements). So in the greedy by cost call, `x` lets us take in each item from the original list as we iterate through it.\n",
    "\n",
    "When we use methods, well.. methods are just functions for a class! Notice the way they get called though: `Food.getValue`, as opposed to `foodInstance.getValue()`. If the latter was used for `keyFunction`, it would not work because doing it like that applies `.getValue()` to a single instance of class `Food`. \n",
    "\n",
    "However `Food.getValue` brings in the whole method. Python knows how to apply `Food.getValue` on each instance of `Food` in the list."
   ]
  },
  {
   "cell_type": "markdown",
   "metadata": {},
   "source": [
    "# ^^^ This last line is a total fucking cop out answer. ^^^\n",
    "\n",
    "# I have NO IDEA how python knows how to pass in each instance of `Food`."
   ]
  },
  {
   "cell_type": "markdown",
   "metadata": {},
   "source": [
    "Now let's discuss input parameters **foods** and **maxUnits**. The **foods** parameter will be the list of items class `Food`. `maxUnits` is the limiter. These values chenge names haphazardly in every function body, which is highly annoying... Espcecially since you will need to track these in order to see how the program works. But here's a question: *which function should we start tracking from?! the first created? some func in the middle? or the last func?*\n",
    "\n",
    "Start at `testGreedys`. Here's why: as stated in the beginning, `testGreedys` and `testMaxVal` are the only two functions a user will explicitly call. So this is where our list of foods and our calorie limiter will actually get set/changed. You can then track how the initial values set to `foods` and `maxUnits` get passed to the preceding functions to be processed.\n",
    "\n",
    "Tracking the list `foods`. *Note: A call to* `buildMenu` *func is bound to variable* `foods` *(at the bottom of the page) before being passed into* `testGreedys`\n",
    "\n",
    "|**Variable:** | `foods`-->    | `foods`-->    | `items`-->   |`items`-->   |\n",
    "|--------------|:------------|:------------|:-----------|:----------|\n",
    "|**Function:** | `buildMenu`   | `testGreedys` | `testGreedy` | `greedy`    |\n",
    "\n",
    "\n",
    "\n",
    "Tracking `maxUnits` the calorie limiter. This parameter is set directly by user when they call `testGreedys`.\n",
    "\n",
    "|**Variable:** | `maxUnits`--> | `constraint`-->| `maxCost`    |\n",
    "|--------------|:--------------|:---------------|:-------------|\n",
    "|**Function:** | `testGreedys` | `testGreedy`   | `greedy`     |\n",
    "\n",
    "\n",
    "Tracking `keyFunction`. This function sets the order/rank in which foods get eaten.\n",
    "\n",
    "|**Variable:** | Food.getterMethod-->|`keyFunction`-->| `keyFunction` -->|`key`|\n",
    "|--------------|:--------------------|:---------------|:-----------------|:------------|\n",
    "|**Function:** | `testGreedys`       | `testGreedy`   | `greedy`         | `sorted()`  |"
   ]
  },
  {
   "cell_type": "code",
   "execution_count": 63,
   "metadata": {},
   "outputs": [],
   "source": [
    "def testGreedys(foods, maxUnits):\n",
    "    print('Use greedy by value to allocate', maxUnits,\n",
    "          'calories')\n",
    "    testGreedy(foods, maxUnits, Food.getValue)\n",
    "    print('\\nUse greedy by cost to allocate', maxUnits,\n",
    "          'calories')\n",
    "    testGreedy(foods, maxUnits,\n",
    "               lambda x: 1/Food.getCost(x))\n",
    "    print('\\nUse greedy by density to allocate', maxUnits,\n",
    "          'calories')\n",
    "    testGreedy(foods, maxUnits, Food.density)"
   ]
  },
  {
   "cell_type": "markdown",
   "metadata": {},
   "source": [
    "That is the end of our code for locally optimal solutions! When you take a look down below, you're gonna realize these answers are all over the place. There is no way to even approximate how close to the actual optimal solution we are getting. \n",
    "\n",
    "Again, we want to maximize value while staying under calorie limit. But to do this we need to consider both variables.\n",
    "Even when ranked by value or calorie count, it's not possible to get a guaranteed optimal solution. "
   ]
  },
  {
   "cell_type": "markdown",
   "metadata": {},
   "source": [
    "## Brute Force: Finding Truly Optimal Solution"
   ]
  },
  {
   "cell_type": "markdown",
   "metadata": {},
   "source": [
    "# INSERT IMAGE OF DECISION TREE HERE"
   ]
  },
  {
   "cell_type": "markdown",
   "metadata": {},
   "source": [
    "Decision Trees (aka Search Trees)... A search tree:\n",
    "- enumerates all possibilities using left-first, depth-first enumeration.\n",
    "    Basically, that means if you have a list of items, it tries to add the weight of the first item, then the second, etc.. until the limiter is reached. Once it is reached, it moves to the second item and tries the same thing. Again, the end result is that we find \n",
    "    \n",
    "    [the powerset of the list] - [sets where total weight exceeds weight limit]\n",
    "    \n",
    "-\n"
   ]
  },
  {
   "cell_type": "markdown",
   "metadata": {},
   "source": [
    "A Brute Force Algorithm to 0/1 knapsack must do 3 things:\n",
    "- Check through all possible combinations of items\n",
    "- Remove combinations where the value exceeds the value limit\n",
    "- Select remaining combination that has the largest value"
   ]
  },
  {
   "cell_type": "markdown",
   "metadata": {},
   "source": [
    "### Computational Complexity"
   ]
  },
  {
   "cell_type": "markdown",
   "metadata": {},
   "source": [
    "How much computing power does a search tree algorithm take? To find a power set, by definition, we would need to go through all the items in list of choices `N` number of times. The computation is inherently 2^i. However you can (and we will) program a decision tree to stop checking sets that start ay item `i` whenever we reach a set where totalWeight exceeds the weight limiter, so many times you won't actually do all power sets.. but that' doesn't change computational complexity, which is considered based on a worst case scenario."
   ]
  },
  {
   "cell_type": "markdown",
   "metadata": {},
   "source": [
    "## maxVal: The Decision Tree Algorithm"
   ]
  },
  {
   "cell_type": "markdown",
   "metadata": {},
   "source": [
    "Now let's build out `maxVal`, a func that returns a truly optimal solution. This func is recursive and could be tricky to understand at first glance.\n",
    "\n",
    "- Read the doc strings...\n",
    "- Define what is being returned... `result` is a tuple: (the `totalValue` of all foods to eat and a nested tuple of those food items)\n",
    "- Define what goes into the paramaters... \n",
    "    \n",
    "    `toConsider` --> a list of items class Food that nodes higher up in the tree (corresponding to earlier calls in the recursive call stack) have not yet considered.\n",
    "    \n",
    "    `avail`-> the upper limit\n",
    "- Read through the code and rewrite pseudocode for each line...\n",
    "- Track how the `maxVal` params and the internal func call interact with above funcs..."
   ]
  },
  {
   "cell_type": "markdown",
   "metadata": {},
   "source": [
    "`maxVal` only calls itself. However it uses the `.getCost()` method on every item from `toConsider`... \n",
    "So any user needs to make sure the list that gets put into `toConsider` only contains items of type `Food`.\n",
    "\n",
    "Note that at the bottom of this page, we won't call `maxVal`. We call `testMaxVal`, so that's where 'variable tracking' begins. Again, the names keep changing wontonly across functions, insanely annoying. Deal with it.\n",
    "\n",
    "Tracking the `toConsider` variable:\n",
    "\n",
    "|**Variable:** |`foods`-->   | `foods`-->    | `toConsider`    |\n",
    "|--------------|:------------|:--------------|:----------------|\n",
    "|**Function:** | `buildMenu` | `testMaxVal`  | `maxVal`        |\n",
    "\n",
    "\n",
    "Tracking the `avail` variable:\n",
    "\n",
    "|**Variable:** | `maxUnits`-->  | `avail`       |\n",
    "|--------------|:---------------|:--------------|\n",
    "|**Function:** | `textMaxVal`   | `maxVal`      |\n",
    "\n"
   ]
  },
  {
   "cell_type": "markdown",
   "metadata": {
    "jupyter": {
     "source_hidden": true
    }
   },
   "source": [
    "def maxVal(toConsider, avail):\n",
    "    ''' This is the pseudocode for the below eqn.\n",
    "        Note that toConsider[0] is just like toConsider[i] if we were iterating i in range(len(toConsider)). \n",
    "        That's bc in this function we remove toConsider[0] from toConsider at each recursion depth level.\n",
    "        So at depth 0 is the same as i = 0... at depth 1, i = 1 ...AKA depth = i'''\n",
    "    if toConsider == [] or avail == 0: #toConsider[i] cannot be added to the knapsack.\n",
    "        result = (0, ())  #executes when parameters = zero or at the recursion depth where we have fully used up toConsider or avail.\n",
    "    \n",
    "    elif toConsider[0].getCost > ('weight available in bag'):\n",
    "        #if True, the cost of toConsider[0] is too big and it cannot be added... \n",
    "        #So no need to explore left branches (aka all branches which involve adding toConsider[0]).\n",
    "        result = maxVal(toConsider[1:], avail) #skips toConsider[0]... aka the program explores 'right' branch only.\n",
    "    \n",
    "    else:  #toConsider[0].getCost <= ('weight available in bag')\n",
    "        #explores left & right branch optimums, compares them, and sets result to whichever branch is optimal.\n",
    "        \n",
    "        nextItem = toConsider[0] #This just makes the code look cleaner.\n",
    "        \n",
    "        # Explore Left Branch. aka branches that add in toConsider[0].\n",
    "         withVal, withToTake = maxVal(toConsider[1:], avail - nextItem.getCost()) #Goes down to get optimal left branch path.\n",
    "         withVal += nextItem.getValue()      \n",
    "        \n",
    "        # Explore Right Branch. aka branches that do NOT add toConsider[0].\n",
    "        withoutVal, withoutToTake = maxVal(toConsider[1:], avail) #We do not add toConsider[0] onto list, we do not adjust avail.\n",
    "   \n",
    "         \n",
    "        if withVal > withoutVal: #left branch wins\n",
    "            result = (withVal, withToTake + (nextItem,))\n",
    "        else: #right branch wins\n",
    "            result = (withoutVal, withoutToTake)\n",
    "        \n",
    "    return result  #returns result for use in the recursion level above\n"
   ]
  },
  {
   "cell_type": "markdown",
   "metadata": {},
   "source": []
  },
  {
   "cell_type": "code",
   "execution_count": 66,
   "metadata": {},
   "outputs": [],
   "source": [
    "def maxVal(toConsider, avail):\n",
    "    \"\"\"Assumes toConsider a list of items, avail a weight\n",
    "       Returns a tuple of the total value of a solution to the\n",
    "         0/1 knapsack problem and the items of that solution.\"\"\"\n",
    "    if toConsider == [] or avail == 0:\n",
    "        result = (0, ())\n",
    "    elif toConsider[0].getCost() > avail:\n",
    "        #Explore right branch only\n",
    "        result = maxVal(toConsider[1:], avail)\n",
    "    else: \n",
    "        nextItem = toConsider[0]\n",
    "        #Explore left branch\n",
    "        withVal, withToTake = maxVal(toConsider[1:], avail - nextItem.getCost())\n",
    "        withVal += nextItem.getValue()\n",
    "        #Explore right branch\n",
    "        withoutVal, withoutToTake = maxVal(toConsider[1:], avail)\n",
    "        #Choose better branch\n",
    "        if withVal > withoutVal:\n",
    "            result = (withVal, withToTake + (nextItem,))\n",
    "        else:\n",
    "            result = (withoutVal, withoutToTake)\n",
    "    return result"
   ]
  },
  {
   "cell_type": "markdown",
   "metadata": {},
   "source": [
    "**This problem is difficult to understand at a glance. Needs a student Q&A with prof explaining how he/she thinks through the problem**"
   ]
  },
  {
   "cell_type": "markdown",
   "metadata": {},
   "source": [
    "Given below, `testMaxVal` prints out the user-input calorie limit and the list of foods. `printItems` makes no goddamn dick sense. useless. So you can optinally turn off the printing of the items??? Grow up."
   ]
  },
  {
   "cell_type": "code",
   "execution_count": 50,
   "metadata": {},
   "outputs": [],
   "source": [
    "def testMaxVal(foods, maxUnits, printItems = True):\n",
    "    print('Use search tree to allocate', maxUnits,\n",
    "          'calories')\n",
    "    val, taken = maxVal(foods, maxUnits)\n",
    "    print('Total value of items taken =', val)\n",
    "    if printItems:\n",
    "        for item in taken:\n",
    "            print('   ', item)"
   ]
  },
  {
   "cell_type": "markdown",
   "metadata": {},
   "source": [
    "# Originally, Prof. Jon GULAG set values and calories short an element.. I added the 9th on myself... Suck it MIT!!!"
   ]
  },
  {
   "cell_type": "code",
   "execution_count": 51,
   "metadata": {},
   "outputs": [],
   "source": [
    "names = ['wine', 'beer', 'pizza', 'burger', 'fries',\n",
    "         'cola', 'apple', 'donut', 'cake']\n",
    "values = [89,90,95,100,90,79,50,10]\n",
    "calories = [123,154,258,354,365,150,95,195]\n",
    "foods = buildMenu(names, values, calories)"
   ]
  },
  {
   "cell_type": "code",
   "execution_count": null,
   "metadata": {},
   "outputs": [],
   "source": [
    "testGreedys(foods, 750)\n",
    "print('----------------------')\n",
    "testMaxVal(foods, 750)"
   ]
  }
 ],
 "metadata": {
  "kernelspec": {
   "display_name": "Python 3",
   "language": "python",
   "name": "python3"
  },
  "language_info": {
   "codemirror_mode": {
    "name": "ipython",
    "version": 3
   },
   "file_extension": ".py",
   "mimetype": "text/x-python",
   "name": "python",
   "nbconvert_exporter": "python",
   "pygments_lexer": "ipython3",
   "version": "3.8.5"
  }
 },
 "nbformat": 4,
 "nbformat_minor": 4
}
