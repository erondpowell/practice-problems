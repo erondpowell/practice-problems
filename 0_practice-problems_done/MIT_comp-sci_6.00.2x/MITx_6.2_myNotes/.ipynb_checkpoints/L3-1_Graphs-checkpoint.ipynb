{
 "cells": [
  {
   "cell_type": "markdown",
   "metadata": {},
   "source": [
    "# Graph Theory"
   ]
  },
  {
   "cell_type": "markdown",
   "metadata": {},
   "source": [
    "IMAGE OF GRAPH"
   ]
  },
  {
   "cell_type": "markdown",
   "metadata": {},
   "source": [
    "The world is based on relationships. We often call large groups of relationships a network.\n",
    "Graph theory helps us map out networks:\n",
    "\n",
    "- social networks\n",
    "- sewer networks\n",
    "- crime networks\n",
    "- computer newtorks\n",
    "- financial networks\n",
    "- ecological networks\n",
    "- cellular networks\n",
    "- political networks"
   ]
  },
  {
   "cell_type": "markdown",
   "metadata": {},
   "source": [
    "IMAGE OF SOCIAL NETWORK"
   ]
  },
  {
   "cell_type": "markdown",
   "metadata": {},
   "source": [
    "The list of network types goes on.... Here are some multibillion dollar companies/industries built on solving network problems:\n",
    "\n",
    "- **Google Maps:** fastest route between two locations\n",
    "- **travel booking companies:** keep flights cheap (or transit time fast)\n",
    "- **Phone/Internet providers**\n",
    "- **Facebook**\n",
    "\n",
    "A graph has:\n",
    "- **Nodes:** also called vertices.\n",
    "- **Edges:** also called arcs."
   ]
  },
  {
   "cell_type": "markdown",
   "metadata": {},
   "source": [
    "IMAGE OF NODES AND VERTICES HERE"
   ]
  },
  {
   "cell_type": "markdown",
   "metadata": {},
   "source": [
    "Google maps is a straight-forward, easy-to understand use case of graph theory:\n",
    "\n",
    "- Nodes are points where roads end or meet (intersections, merge ramps, etc.)\n",
    "- Edges in this case, are roads. Each with a weight that represents the time it takes to travel.\n",
    "\n",
    "Google maps dynamically updates these weights in real time, based not just on speed limit and distance but also on traffic.\n",
    "\n",
    "Calculating the traffic is obviously quite a complicated process. Also, dynamically deriving the weight like this could thought of as a separate problem. Graph theory is just involves this separately-calculated weight to find the optimal path to the destination."
   ]
  },
  {
   "cell_type": "code",
   "execution_count": null,
   "metadata": {},
   "outputs": [],
   "source": [
    "## Google maps questions."
   ]
  },
  {
   "cell_type": "markdown",
   "metadata": {},
   "source": [
    "## Common Characteristics"
   ]
  },
  {
   "cell_type": "markdown",
   "metadata": {},
   "source": [
    "Here are som common characteristics of graphs. They can be:\n",
    "\n",
    "- **undirected:** edges are like two-way streets. \"If I'm your friend, you're my friend.\"\n",
    "- **directed:** edges are one way. \"Parents produce children, children do not produce parents\"."
   ]
  },
  {
   "cell_type": "markdown",
   "metadata": {},
   "source": [
    "Graph edges can also be **weighted** or **unweighted**. Weights can be thought of as cost.\n",
    "\n",
    "In the google maps example, the heavier the traffic on a given road (represented by an edge/arc), the higher the weight. Minimizing the weight across all arcs leads to an optimal transit time!\n",
    "\n",
    "If you remember 0/1 knapsack problem, it was represented by a decision tree. This is actually a directed, weighted graph."
   ]
  },
  {
   "cell_type": "markdown",
   "metadata": {},
   "source": [
    "INSERT DECISION TREE IMAGE HERE"
   ]
  },
  {
   "cell_type": "markdown",
   "metadata": {},
   "source": [
    "**Note:** A tree (like the decision tree in the 0/1 knapsack problem) is a directed graph in which each pair of nodes is connected by a single path."
   ]
  },
  {
   "cell_type": "markdown",
   "metadata": {},
   "source": [
    "## The Origin of Graph Theory"
   ]
  },
  {
   "cell_type": "markdown",
   "metadata": {},
   "source": [
    "In 1735, Leonhard Euler invented graph theory as a solution to a famous question in Koningsburg, Prussia known as \"The Koningsburg Bridge Problem\". Here it is for you to solve:\n",
    "\n",
    "\"The city of Königsberg in Prussia (now Kaliningrad, Russia) was set on both sides of the Pregel River, and included two large islands—Kneiphof and Lomse—which were connected to each other, or to the two mainland portions of the city, by seven bridges. The problem was to devise a walk through the city that would cross each of those bridges once and only once.\n",
    "\n",
    "By way of specifying the logical task unambiguously, solutions involving either:\n",
    "\n",
    "- reaching an island or mainland bank other than via one of the bridges, or\n",
    "- accessing any bridge without crossing to its other end\n",
    "\n",
    "are explicitly unacceptable...\" Here is a map of the bridges. Try to solve it. The local residents were obsessed with this question!\n",
    "Once you are done, unhide the solution under the image by clicking the three gray dots."
   ]
  },
  {
   "cell_type": "markdown",
   "metadata": {},
   "source": [
    "![Map of 7 Bridges in KoningsBurg](https://upload.wikimedia.org/wikipedia/commons/5/5d/Konigsberg_bridges.png \"Euler's Bridges\")"
   ]
  },
  {
   "cell_type": "markdown",
   "metadata": {},
   "source": [
    "Surprise!!!! There is NO SOLUTION!!! It can't be done for this number of islands and bridges. Let's take a look at how Euler determined it to be impossible for this map. \n",
    "\n",
    "First, we will think of each:\n",
    "\n",
    "- landmass as a point (aka a node or vertice)\n",
    "- bridge as a line (aka edge or arc)\n",
    "\n",
    "Now, let's rephrase the problem: \"Is there a path that contains each edge exactly once?\""
   ]
  },
  {
   "cell_type": "markdown",
   "metadata": {},
   "source": [
    "IMAGE OF EULER'S SOLUTION ABSTRACED INTO A MAP"
   ]
  },
  {
   "cell_type": "markdown",
   "metadata": {},
   "source": [
    "MATHEMATICAL SOLUTION GOES HERE"
   ]
  },
  {
   "cell_type": "markdown",
   "metadata": {},
   "source": [
    "Euler's big contribution is that this modeling system abstracts away all irrelevant details of the map. \n",
    "\n",
    "The problem is boilded down to vertices (islands) and bridges (edges).\n",
    "\n",
    "The size, length and weight capacity of the bridges do not matter. The size of the landmass does not matter. It doesn't matter how long the walk goes for."
   ]
  }
 ],
 "metadata": {
  "kernelspec": {
   "display_name": "Python 3",
   "language": "python",
   "name": "python3"
  },
  "language_info": {
   "codemirror_mode": {
    "name": "ipython",
    "version": 3
   },
   "file_extension": ".py",
   "mimetype": "text/x-python",
   "name": "python",
   "nbconvert_exporter": "python",
   "pygments_lexer": "ipython3",
   "version": "3.8.5"
  }
 },
 "nbformat": 4,
 "nbformat_minor": 4
}
