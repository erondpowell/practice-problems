{
 "cells": [
  {
   "cell_type": "markdown",
   "metadata": {},
   "source": [
    "# Graphs and Digraphs"
   ]
  },
  {
   "cell_type": "markdown",
   "metadata": {},
   "source": [
    "The following code lets us build graphs or digraphs. This code will not be optimizing anything. It is strictly going to show you how you might create a relationship with code... Also, the graph representations will be ugly and archaic. There won't be any fancy arc lines connecting nodes and no color graphics/pictures/etc. The graph will be printed out as a series of `'source' -> 'destination'` statements. "
   ]
  },
  {
   "cell_type": "markdown",
   "metadata": {},
   "source": [
    "## Graph Properties"
   ]
  },
  {
   "cell_type": "markdown",
   "metadata": {},
   "source": [
    "As discussed in the last section, nodes and edges (aka vertices and arcs) can have extra properties to be considered, or not. Here are some properties it might be useful for a node to have:\n",
    "\n",
    "-  **Google Maps** Using the entry-point to get on highway I-44 cost toll money\n",
    "-  **Family Tree** identifying people in a family as grandparent, parent, child, cousin, etc.\n",
    "-  **Travel Website** warning that an airport has no handicap bathrooms or indoor smoking area\n",
    "\n",
    "***REWRITE THIS: Remember that in the 0/1 knapsack problem, it did not matter which foods were eaten together.**** \n",
    "\n",
    "Edges can be weightless, as seen in Euler's 7 bridges problem. Howeever, here are some times we need weighted edges:\n",
    "\n",
    "- Speed limit, distance, or traffic on a segment of road.\n",
    "- Years in age difference between two family members, 'in-law' or 'step' status (as in 'mother in law' or 'step brother')\n",
    "- Whether flight has first class seating, takeoff/departure times, ticket price, duration of flight, pet-friendly, etc.\n",
    "\n",
    "**Note:** Some people don't care about things like toll fees or first-class seating. Weights are determined as the problem is formulated.\n",
    "\n",
    "For these reasons, it is nice to build a classes out of these in any computer-programmed solution. This makes it easy to add/subtract properties flexibly."
   ]
  },
  {
   "cell_type": "markdown",
   "metadata": {},
   "source": [
    "## Class Node"
   ]
  },
  {
   "cell_type": "markdown",
   "metadata": {},
   "source": [
    "In the following code class Node has no attributes other than a name. However, since it is a class, we could conveniently add more attributes later on."
   ]
  },
  {
   "cell_type": "code",
   "execution_count": 1,
   "metadata": {},
   "outputs": [],
   "source": [
    "class Node(object):\n",
    "    def __init__(self, name):\n",
    "        \"\"\"Assumes name is a string\"\"\"\n",
    "        self.name = name\n",
    "    def getName(self):\n",
    "        return self.name\n",
    "    def __str__(self):\n",
    "        return self.name"
   ]
  },
  {
   "cell_type": "markdown",
   "metadata": {},
   "source": [
    "## Class Edge"
   ]
  },
  {
   "cell_type": "markdown",
   "metadata": {},
   "source": [
    "Class Edge has a source and destination property. If you take a look at the `__str__()` method defined, it uses `Source -> Destination` as it's desription (aka name). We not only have a name, this also enables the possibility of making an an edge directional, which means Edge could be used for graphs and well as digraphs."
   ]
  },
  {
   "cell_type": "code",
   "execution_count": 2,
   "metadata": {},
   "outputs": [],
   "source": [
    "class Edge(object):\n",
    "    def __init__(self, src, dest):\n",
    "        \"\"\"Assumes src and dest are nodes\"\"\"\n",
    "        self.src = src\n",
    "        self.dest = dest\n",
    "    def getSource(self):\n",
    "        return self.src\n",
    "    def getDestination(self):\n",
    "        return self.dest\n",
    "    def __str__(self):\n",
    "        return self.src.getName() + '->' + self.dest.getName()"
   ]
  },
  {
   "cell_type": "markdown",
   "metadata": {},
   "source": [
    "### Sidenote: Adjacency List vs Matrix"
   ]
  },
  {
   "cell_type": "markdown",
   "metadata": {},
   "source": [
    "Our edges in this example will be quite simple, and all destinations are stored in an **adjacency list**. We will have ~10 nodes total and it will be pretty easy to track source -> destination.\n",
    "\n",
    "Alternatively, when the graph is really dense, you cna use an **adjacency matrix**:\n",
    "- Rows: Source Nodes\n",
    "- Columns: Destination Nodes\n",
    "- Cell[s, d] = 1 if there is an edge from source (s) to destination (d). Otherwise, 0."
   ]
  },
  {
   "cell_type": "markdown",
   "metadata": {},
   "source": [
    "## Class Digraph"
   ]
  },
  {
   "cell_type": "markdown",
   "metadata": {},
   "source": [
    "Remember, node relationships in a digraph are one-directional. This class stores relationships between nodes and edges in a dictionary.\n",
    "\n",
    "The `.addNode()` method stores a node as a key (with an empty list as the value) and throws an error if a user attempts to add the same node 2 or more times.\n",
    "\n",
    "`.addEdge()` gets the source city and destination city from a passed in edge, if either of these cities (source or destination) has not been added in the dictionary already, an error is thrown. If that error isn't raised, it means both nodes are in the dictionary, so it finds the source node (the key in egdes dict) and appends the destination node into its list of values.\n",
    "\n",
    "`.getNode()`\n",
    "\n",
    "So after you read through the code, you will see, it's not like a physical line is drawn to store an edge. The names are simply stored as key-value pairs."
   ]
  },
  {
   "cell_type": "code",
   "execution_count": 7,
   "metadata": {},
   "outputs": [],
   "source": [
    "class Digraph(object):\n",
    "    \"\"\"edges is a dict mapping each node to a list of\n",
    "    its children\"\"\"\n",
    "    def __init__(self):\n",
    "        self.edges = {}\n",
    "    def addNode(self, node):\n",
    "        if node in self.edges:\n",
    "            raise ValueError('Duplicate node')\n",
    "        else:\n",
    "            self.edges[node] = []\n",
    "    def addEdge(self, edge):\n",
    "        src = edge.getSource()\n",
    "        dest = edge.getDestination()\n",
    "        if not (src in self.edges and dest in self.edges):\n",
    "            raise ValueError('Node not in graph')\n",
    "        self.edges[src].append(dest)\n",
    "    def childrenOf(self, node):\n",
    "        return self.edges[node]\n",
    "    def hasNode(self, node):\n",
    "        return node in self.edges\n",
    "    def getNode(self, name):\n",
    "        for n in self.edges:\n",
    "            if n.getName() == name:\n",
    "                return n\n",
    "        raise NameError(name)\n",
    "    def __str__(self):\n",
    "        result = ''\n",
    "        for src in self.edges:\n",
    "            for dest in self.edges[src]:\n",
    "                result = result + src.getName() + '->'\\\n",
    "                         + dest.getName() + '\\n'\n",
    "        return result[:-1] #omit final newline"
   ]
  },
  {
   "cell_type": "markdown",
   "metadata": {},
   "source": [
    "## Class Graph"
   ]
  },
  {
   "cell_type": "markdown",
   "metadata": {},
   "source": [
    "Notice that graph is a subclass of digraph. It has all properties of digraph, with one little addition.\n",
    "\n",
    "Except that Graph's `.addEdge()` method runs digraph's `.addEdge()` method forward and backwards to get a symmetrical relationship on all edges added. As seen below, it does this by calling Edge, with the destination and source switched around."
   ]
  },
  {
   "cell_type": "code",
   "execution_count": 4,
   "metadata": {},
   "outputs": [],
   "source": [
    "class Graph(Digraph):\n",
    "    def addEdge(self, edge):\n",
    "        Digraph.addEdge(self, edge)\n",
    "        rev = Edge(edge.getDestination(), edge.getSource())\n",
    "        Digraph.addEdge(self, rev)"
   ]
  },
  {
   "cell_type": "markdown",
   "metadata": {},
   "source": [
    "## Graph Function"
   ]
  },
  {
   "cell_type": "markdown",
   "metadata": {},
   "source": [
    "This function builds out a graph- either graph or digraph (flexibiltiy allowed by the `graphType` parameter). It then iterates through a list city names stored as a `tuple` then, in a single line:\n",
    "\n",
    "- Creates `node` from each city name\n",
    "- Adds `node` to the graph `g`\n",
    "\n",
    "Generation and appending in a single line are happening for edges as well, just without the `for` loop. \n",
    "\n",
    "Edges added to the graph in a case-by-case basis.\n",
    "\n",
    "- `g.getNode('cityName')` throws an error if any node `cityName` is not in the graph already, just to be safe.\n",
    "- `Edge(source, destination)` creates these nodes into an edge\n",
    "- `g.addEdge(Edge)` Adds these edges into the graph.\n",
    "\n",
    "The it returns the newly completed graph `g`."
   ]
  },
  {
   "cell_type": "code",
   "execution_count": 12,
   "metadata": {},
   "outputs": [],
   "source": [
    "def buildCityGraph(graphType):\n",
    "    g = graphType()\n",
    "    for name in ('Boston', 'Providence', 'New York', 'Chicago',\n",
    "                 'Denver', 'Phoenix', 'Los Angeles'): #Create 7 nodes\n",
    "        g.addNode(Node(name))\n",
    "    g.addEdge(Edge(g.getNode('Boston'), g.getNode('Providence')))\n",
    "    g.addEdge(Edge(g.getNode('Boston'), g.getNode('New York')))\n",
    "    g.addEdge(Edge(g.getNode('Providence'), g.getNode('Boston')))\n",
    "    g.addEdge(Edge(g.getNode('Providence'), g.getNode('New York')))\n",
    "    g.addEdge(Edge(g.getNode('New York'), g.getNode('Chicago')))\n",
    "    g.addEdge(Edge(g.getNode('Chicago'), g.getNode('Denver')))\n",
    "    g.addEdge(Edge(g.getNode('Denver'), g.getNode('Phoenix')))\n",
    "    g.addEdge(Edge(g.getNode('Denver'), g.getNode('New York')))\n",
    "    g.addEdge(Edge(g.getNode('Los Angeles'), g.getNode('Boston')))\n",
    "    return g"
   ]
  },
  {
   "cell_type": "markdown",
   "metadata": {},
   "source": [
    "**Note:** This is clearly not reasonable coding for any production situation, maybe not even for personal coding.\n",
    "It provides zero flexibility, but it's easy to read and see what's going on.... Okay, let call the func and print out our new graph."
   ]
  },
  {
   "cell_type": "code",
   "execution_count": 13,
   "metadata": {},
   "outputs": [
    {
     "name": "stdout",
     "output_type": "stream",
     "text": [
      "Boston->Providence\n",
      "Boston->New York\n",
      "Boston->Providence\n",
      "Boston->Los Angeles\n",
      "Providence->Boston\n",
      "Providence->Boston\n",
      "Providence->New York\n",
      "New York->Boston\n",
      "New York->Providence\n",
      "New York->Chicago\n",
      "New York->Denver\n",
      "Chicago->New York\n",
      "Chicago->Denver\n",
      "Denver->Chicago\n",
      "Denver->Phoenix\n",
      "Denver->New York\n",
      "Phoenix->Denver\n",
      "Los Angeles->Boston\n"
     ]
    }
   ],
   "source": [
    "print(buildCityGraph(Graph))"
   ]
  },
  {
   "cell_type": "code",
   "execution_count": null,
   "metadata": {},
   "outputs": [],
   "source": []
  }
 ],
 "metadata": {
  "kernelspec": {
   "display_name": "Python 3",
   "language": "python",
   "name": "python3"
  },
  "language_info": {
   "codemirror_mode": {
    "name": "ipython",
    "version": 3
   },
   "file_extension": ".py",
   "mimetype": "text/x-python",
   "name": "python",
   "nbconvert_exporter": "python",
   "pygments_lexer": "ipython3",
   "version": "3.8.5"
  }
 },
 "nbformat": 4,
 "nbformat_minor": 4
}
