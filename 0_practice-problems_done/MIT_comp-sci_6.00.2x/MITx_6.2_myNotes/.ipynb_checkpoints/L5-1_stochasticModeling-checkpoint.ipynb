{
 "cells": [
  {
   "cell_type": "markdown",
   "metadata": {},
   "source": [
    "# Modeling Uncertainty"
   ]
  },
  {
   "cell_type": "markdown",
   "metadata": {},
   "source": [
    "Regardless of whether the universe is inhernelty unpredictable or whether we simply don't have enough knowledge to accurately model events, the world is often unpredictable. But so far, we have only looked at functions which generate completely predicatble outcomes. This is a problem because when modeling real life events, most often- the best statement we can make is that some outcome is highly likely to occur, but not guaranteed to occur. Uncertainty needs to be addressed. There are basically three ways you can interpret past and future events:\n",
    "\n",
    "**Determinism** means that the future can be predicted exactly from the past.\n",
    "\n",
    "**Causal nondeterminism** means that the future cannot be predicted exactly from the past, some things are uncaused. There is true randomness in the universe.\n",
    "\n",
    "**Predictive nondeterminism** means that the future could in principle be predicted from the past, but we don’t have enough information. There is chaos in the universe, but not true randomness.\n",
    "\n",
    "For people who want to get things done (as opposed to just debating about the nature of the universe) the third option is the wisest outlook to take on the world. The conclusions to take away from the statement above is that doesn't matter if things are predictable or not, we can't predict them because we don't have enough info. So it's best to treat things as probalistic."
   ]
  },
  {
   "cell_type": "markdown",
   "metadata": {},
   "source": [
    "## 3 Facts of Probability"
   ]
  },
  {
   "cell_type": "markdown",
   "metadata": {},
   "source": [
    "There is a lot of room for making miscalculations and getting things wrong in the field of probability, but fundamentally the field follows just three simple rules. It's not complicated:\n",
    "\n",
    "- Probabilities are always in the range 0 to 1 (0% to 100%). Events cannot have a < 0% or > 100% chance of happening.\n",
    "\n",
    "- If the probability of an event occuring is **p**, the probability of an event not occuring is **1-p**\n",
    "\n",
    "- When events are independent of each other, the probability of all of the events occuring is equal to the product of each of the events occuring.\n",
    "    - Example: event1 = 0.5  ,  event2 = 0.5 ....  Probability of both events occuring is 0.25\n",
    "\n",
    "People often make the mistake of assuming events are independent when they actually are not. This often leads people to seriously incorrect answers when calculating odds."
   ]
  },
  {
   "cell_type": "markdown",
   "metadata": {},
   "source": [
    "### How to Deal with this"
   ]
  },
  {
   "cell_type": "markdown",
   "metadata": {},
   "source": [
    "**Monte Carlo** and simulations can be good tools for dealing with predictive nondeterminism. You have exact equations for how everything plays out, so simulation works. But you don’t have good information about the initial state, and the output is very sensitive to initial conditions. So you try a bunch of possible initial conditions, equally probable if possible for simplicity, and look at the distribution of simulation results. You don’t say that the future will be drawn from that distribution, you say that the simulation results represent your best guess about what the future will be."
   ]
  },
  {
   "cell_type": "markdown",
   "metadata": {},
   "source": [
    "## Stochastic Processes"
   ]
  },
  {
   "cell_type": "markdown",
   "metadata": {},
   "source": [
    "These are ongoing processes where predicting the next state might depend on both the previous states and some random element."
   ]
  },
  {
   "cell_type": "code",
   "execution_count": null,
   "metadata": {},
   "outputs": [],
   "source": [
    "import random\n",
    "\n",
    "def rollDieDeterministic():\n",
    "    \"\"\" returns an int between 1 and 6\"\"\"\n",
    "    return 5\n",
    "\n",
    "def rollDieStochastic():\n",
    "    \"\"\" returns a randomly chosen int\n",
    "    between 1 and 6\"\"\" \n",
    "    return random.randrange(1,6)\n",
    "\n",
    "print(rollDieDeterministic())\n",
    "print(rollDieStochastic())"
   ]
  },
  {
   "cell_type": "markdown",
   "metadata": {},
   "source": [
    "In the above code, the first function is **deterministic** not stochastic. This means we absolutely know what the output will be. It always returns 5. The docstring merely specified an integer between 1 and 6 must be returned and so that's what the function does. However, the second function is **stochastic**. We know a single die will always land on an integer 1 through 6. This state is fixed; the numbers on a die won't suddenly change values. But it's also not possible for people to calculate which number a die will land on based on the physics of a hand shake, wind temperature, drop distance, etc... The possible outcomes are structured, but there is chaos in the selection of each outcome."
   ]
  },
  {
   "cell_type": "markdown",
   "metadata": {},
   "source": [
    "## More on Stochastic Models"
   ]
  },
  {
   "cell_type": "markdown",
   "metadata": {},
   "source": [
    "Let's look at two different simulations of dice rolls. Now, the probability of dice rolls is known and can be calulated easily, so note that this simulation is intended to demonstrate how simulations work in general, but it is obviously not a very practical implementation of simulations."
   ]
  },
  {
   "cell_type": "markdown",
   "metadata": {},
   "source": [
    "#### Match Multiple Dice Rolls"
   ]
  },
  {
   "cell_type": "markdown",
   "metadata": {},
   "source": [
    "Let's discuss the following code in `runSim()`, which prints the actual and estimated probability of a series of dice rolls being exactly equal to some target dice roll. \n",
    "\n",
    "This func takes in 2 parameters:\n",
    "- `goal` which is a user-definied dice roll we are trying to achieve by rolling randomely\n",
    "- `numTrials` which is a user-input number of trials to run and test if a random dice roll will match `goal`\n",
    "\n",
    "The function then iterates through every trial from `numTrials`\n",
    " - It generates as many random dices rolls as were set in `goal`.\n",
    " - It checks if result of a random rolls of die was exactly the same as our defined goal.\n",
    "After each trial is tested, it prints the actual and estimated probability of reaching our goal, rounded to 8 decimal places."
   ]
  },
  {
   "cell_type": "code",
   "execution_count": 38,
   "metadata": {},
   "outputs": [],
   "source": [
    "random.seed(0)  # See note below this code cell\n",
    "\n",
    "def runSim(goal, numTrials):\n",
    "    total = 0\n",
    "    for i in range(numTrials):\n",
    "        result = ''\n",
    "        for j in range(len(goal)):\n",
    "            result += str(rollDieStochastic())\n",
    "        if result == goal:\n",
    "            total += 1\n",
    "    print('Actual probability =',\n",
    "          round(1/(6**len(goal)), 8)) \n",
    "    estProbability = round(total/numTrials, 8)\n",
    "    print('Estimated Probability  =',\n",
    "          round(estProbability, 8))"
   ]
  },
  {
   "cell_type": "markdown",
   "metadata": {},
   "source": [
    "**Note:** The random module produces pseudorandom numbers. (We can't yet generate truly random numbers). These pseudorandom number take something internal that is constantly changing, like the number of milliseconds passed since january 1, 1968 and use that to generate numbers. So they appear random. The `.seed()` method overrides the random number generation method that the module typically uses and lets us specify some value ourselves. In the cell above, all pseudorandom numbers will be generated from zero. Every time we call random methods, they will generate the exact same results. This is essential for debugging stochastic problems."
   ]
  },
  {
   "cell_type": "code",
   "execution_count": 39,
   "metadata": {},
   "outputs": [],
   "source": [
    "# Run the simulation. Adjust goal and numTrials as you see fit.\n",
    "# runSim('11111', 10000)"
   ]
  },
  {
   "cell_type": "markdown",
   "metadata": {},
   "source": [
    "#### Box Cars"
   ]
  },
  {
   "cell_type": "markdown",
   "metadata": {},
   "source": [
    "Box cars are a dice term for rolling two sixes. `fracBoxCars` takes in user-input param `numTests`, calls `rollDieStochastic` twice and checks if both rolls equal 6. If `True`, the roll gets counted in `numBoxCars`. Finally, the estimated probability is returned."
   ]
  },
  {
   "cell_type": "code",
   "execution_count": 40,
   "metadata": {},
   "outputs": [],
   "source": [
    "def fracBoxCars(numTests):\n",
    "    numBoxCars = 0.0\n",
    "    for i in range(numTests):\n",
    "        if rollDieStochastic() == 6 and rollDie() == 6:\n",
    "            numBoxCars += 1\n",
    "    return numBoxCars/numTests"
   ]
  },
  {
   "cell_type": "code",
   "execution_count": null,
   "metadata": {},
   "outputs": [],
   "source": [
    "#Try it yourself\n",
    "print('Frequency of double 6 =', str(fracBoxCars(100000)*100) + '%')"
   ]
  },
  {
   "cell_type": "markdown",
   "metadata": {},
   "source": [
    "#### Final Thoughts on Dice Roll Simulations"
   ]
  },
  {
   "cell_type": "markdown",
   "metadata": {},
   "source": [
    "1) It takes a lot of dice rolls to get a good estimate on the frequency of occurance for unlikely events. In fact, there are ways to identify how many trials would be enough.\n",
    "\n",
    "2) Do not confuse sample probability with actual probability.\n",
    "\n",
    "3) As metnioned above, it's not necessary to run these kinds of simulations on dice rolls. The probabilities on these events have a perfectly good closed for answer. However, there are many examples to come where we will see this is not the case; running simulations will be very useful."
   ]
  }
 ],
 "metadata": {
  "kernelspec": {
   "display_name": "Python 3",
   "language": "python",
   "name": "python3"
  },
  "language_info": {
   "codemirror_mode": {
    "name": "ipython",
    "version": 3
   },
   "file_extension": ".py",
   "mimetype": "text/x-python",
   "name": "python",
   "nbconvert_exporter": "python",
   "pygments_lexer": "ipython3",
   "version": "3.8.5"
  }
 },
 "nbformat": 4,
 "nbformat_minor": 4
}
