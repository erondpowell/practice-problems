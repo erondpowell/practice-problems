{
 "cells": [
  {
   "cell_type": "markdown",
   "metadata": {},
   "source": [
    "# Simulations"
   ]
  },
  {
   "cell_type": "markdown",
   "metadata": {},
   "source": [
    "**Simulations** are a description of computations that provide useful information about the possible behaviors of the system\n",
    "being modeled. These are great tools for makings guesses about the likelihood of future outcomes.\n",
    "\n",
    "\n",
    "Although simulations can never perfectly model reality, they give us a spectrum of possible outcomes that could manifest in reality. As we saw in the dice rolling simulations, with an accurate simulation and large enough trial set, we can begin to approximate the likelihood of given outcomes actually happening. \n",
    "\n",
    "It's important to remember that simulations are only an approximation to reality. As George Box said, \"All models are wrong, but some are useful.\" Furthermore, models should be regarded descriptive, not prescriptive. They can't tell you what to do. they just provide you the chances of what might happen. You must decide your risk aversion levels and make decisions on your own. Simulations are used to model:\n",
    "\n",
    "- systems that are mathematically intractible \n",
    "    - If you roll dice for a 6, there is a 1/6 chance of getting a 6. As you roll dice, you continuously get closer to rolling a 6 every 1 in 6 times. \n",
    "    - This is known. Sometimes the chances of events happening are not known and not so simple. \n",
    "- to extract useful intermediate results\n",
    "     - we should buy this stock because it's probably going to increase in price soon.    \n",
    "- good for development by successive refinement and 'what if' questions\n",
    "    - That is to say you can start of with a simple/bad model of reality and refine it iteratively\n",
    "    \n",
    "In the following sections, we will introduce simulations with random walks."
   ]
  },
  {
   "cell_type": "markdown",
   "metadata": {},
   "source": [
    "## Random Walks"
   ]
  },
  {
   "cell_type": "markdown",
   "metadata": {},
   "source": [
    "![random walk graph](https://i.stack.imgur.com/rUI8q.png)"
   ]
  },
  {
   "cell_type": "markdown",
   "metadata": {},
   "source": [
    "Random walks are super useful in modeling the stalk market and other diffusion processes (like chemicals or populations spreading around the world). They are not too complicated to simulate. They provide a great chance to continue building skills in classes and plotting."
   ]
  },
  {
   "cell_type": "markdown",
   "metadata": {},
   "source": [
    "<a href=\"https://www.youtube.com/watch?v=6wUD_gp5WeE\n",
    "\" target=\"_blank\"><img src=\"http://img.youtube.com/vi/YOUTUBE_VIDEO_ID_HERE/0.jpg\" \n",
    "alt=\"IMAGE ALT TEXT HERE\" width=\"240\" height=\"180\" border=\"10\" /></a>"
   ]
  },
  {
   "cell_type": "markdown",
   "metadata": {},
   "source": [
    "# The Drunkard's Walk"
   ]
  },
  {
   "cell_type": "markdown",
   "metadata": {},
   "source": [
    "In the folling lines, we will create a simulation of a drunk guy walking through a field. Imagine somebody so drunk, they are just walking in every which direction. They have an equal chance of going North, South, East or West. Then we will imagine a drunkard that has enough awareness to move slowly in some cardinal direction. We're also going to create a field with wormholes in it that teleport the drunks... just for fun. and to see how it affects the results."
   ]
  },
  {
   "cell_type": "markdown",
   "metadata": {},
   "source": [
    "## Random Walk Classes"
   ]
  },
  {
   "cell_type": "markdown",
   "metadata": {},
   "source": [
    "There will be three base classes needed to implement this random walk. Later, we will create subclasses for field and Drunk.\n",
    "\n",
    "- `Location` The coordinates within the field that a given drunkard is at.\n",
    "\n",
    "- `Field` The actual area the drunks can walk.\n",
    "\n",
    "- `Drunk` The person walking around at random."
   ]
  },
  {
   "cell_type": "code",
   "execution_count": null,
   "metadata": {},
   "outputs": [],
   "source": [
    "import random"
   ]
  },
  {
   "cell_type": "markdown",
   "metadata": {},
   "source": [
    "#### Location Class"
   ]
  },
  {
   "cell_type": "markdown",
   "metadata": {},
   "source": [
    "When a `Location` object is instantiated, `x` and `y` coordinates are defined.\n",
    "\n",
    "The `.move()` method takes in `deltaX` and `deltaY`, which are equal to the change from current `x` and `y` values. It returns a recursive call and updates location by summing current location with change in location with `self.x + deltaX` and `self.y + deltaY`.\n",
    "\n",
    "The `.getX()` and `.getY()` getter methods safely return the current values of `x` and `y`, respectively.\n",
    "\n",
    "\n",
    "The `distFrom(self, other)` method returns the distance between a location and another location passed in as an argument, by using the pythagorean theorem.\n",
    "\n",
    "\n",
    "`__str__(self)` specifies the string representation for `Location`"
   ]
  },
  {
   "cell_type": "code",
   "execution_count": 12,
   "metadata": {},
   "outputs": [],
   "source": [
    "class Location(object):\n",
    "    def __init__(self, x, y):\n",
    "        \"\"\"x and y are numbers\"\"\"\n",
    "        self.x = x\n",
    "        self.y = y\n",
    "\n",
    "    def move(self, deltaX, deltaY):\n",
    "        \"\"\"deltaX and deltaY are numbers\"\"\"\n",
    "        return Location(self.x + deltaX, self.y + deltaY)\n",
    "\n",
    "    def getX(self):\n",
    "        return self.x\n",
    "\n",
    "    def getY(self):\n",
    "        return self.y\n",
    "\n",
    "    def distFrom(self, other):\n",
    "        ox = other.x\n",
    "        oy = other.y\n",
    "        xDist = self.x - ox\n",
    "        yDist = self.y - oy\n",
    "        return (xDist**2 + yDist**2)**0.5\n",
    "\n",
    "    def __str__(self):\n",
    "        return '<' + str(self.x) + ', ' + str(self.y) + '>'"
   ]
  },
  {
   "cell_type": "markdown",
   "metadata": {},
   "source": [
    "#### Field Class"
   ]
  },
  {
   "cell_type": "markdown",
   "metadata": {},
   "source": [
    "`Field` object's constructor method creates attribute `self.drunks` and sets it to equal an empty dicitonary.\n",
    "\n",
    "The `addDrunk` method takes in two parameters: `drunk` (a `drunk` object) and `loc` (a `Location` object associated with that `drunk`). It checks to makes sure the `drunk` isn't in the `Field` object's `self.drunk` dictionary yet, and if not, adds it in as a key with the value set to `loc`.\n",
    "\n",
    "The `moveDrunk` object takes in `drunk` as a parameter. If the `drunk` passed in is not in the `self.drunks` dictionary, a value error is raised. The value of `drunk.takesStep()` is unpacked into variables `xDist` and `yDist`. (For `usualDrunk` objects, the `drunk.takesStep()` method makes the `drunk` take a single, ranom step in any direction of the field.) `currentLocation` is set to equal the `loc` object for the `drunk`, and then the dictionary value for the passed in `drunk` is reset to be the value of `currentLocation.move(xDist, yDist)`. (The `.move()` method just move\n",
    "\n",
    "The `getLoc(self, drunk)` returns the location of a `drunk` or else raises a `ValueError` if drunk is not in `Field`."
   ]
  },
  {
   "cell_type": "code",
   "execution_count": null,
   "metadata": {},
   "outputs": [],
   "source": [
    "class Field(object):\n",
    "    def __init__(self):\n",
    "        self.drunks = {}\n",
    "        \n",
    "    def addDrunk(self, drunk, loc):\n",
    "        if drunk in self.drunks:\n",
    "            raise ValueError('Duplicate drunk')\n",
    "        else:\n",
    "            self.drunks[drunk] = loc\n",
    "            \n",
    "    def moveDrunk(self, drunk):\n",
    "        if drunk not in self.drunks:\n",
    "            raise ValueError('Drunk not in field')\n",
    "        xDist, yDist = drunk.takeStep()\n",
    "        currentLocation = self.drunks[drunk]\n",
    "        #use move method of Location to get new location\n",
    "        self.drunks[drunk] = currentLocation.move(xDist, yDist)\n",
    "        \n",
    "    def getLoc(self, drunk):\n",
    "        if drunk not in self.drunks:\n",
    "            raise ValueError('Drunk not in field')\n",
    "        return self.drunks[drunk]"
   ]
  },
  {
   "cell_type": "markdown",
   "metadata": {},
   "source": [
    "#### Drunk"
   ]
  },
  {
   "cell_type": "markdown",
   "metadata": {},
   "source": [
    "This class is meant to be a base class.. That means it never gets used on its own. Subclasses inherit it, and those are what actually get used. \n",
    "\n",
    "On initialization, the `name` parameter is set to `None`, but can be manually overwritten. \n",
    "\n",
    "the `__str__()` method returns `Anonymous` if `self.name == None`, else returns `self.name` "
   ]
  },
  {
   "cell_type": "code",
   "execution_count": null,
   "metadata": {},
   "outputs": [],
   "source": [
    "class Drunk(object):\n",
    "    def __init__(self, name = None):\n",
    "        \"\"\"Assumes name is a str\"\"\"\n",
    "        self.name = name\n",
    "\n",
    "    def __str__(self):\n",
    "        if self != None:\n",
    "            return self.name\n",
    "        return 'Anonymous'"
   ]
  },
  {
   "cell_type": "markdown",
   "metadata": {},
   "source": [
    "This `drunk` subclass simply takes a random step in any direction."
   ]
  },
  {
   "cell_type": "code",
   "execution_count": null,
   "metadata": {},
   "outputs": [],
   "source": [
    "class UsualDrunk(Drunk):\n",
    "    def takeStep(self):\n",
    "        stepChoices = [(0,1), (0,-1), (1, 0), (-1, 0)]\n",
    "        return random.choice(stepChoices)"
   ]
  },
  {
   "cell_type": "markdown",
   "metadata": {},
   "source": [
    "The `ColdDrunk` takes a random step in any direction, but the movement is slightly weighted southward."
   ]
  },
  {
   "cell_type": "code",
   "execution_count": null,
   "metadata": {},
   "outputs": [],
   "source": [
    "class ColdDrunk(Drunk):\n",
    "    def takeStep(self):\n",
    "        stepChoices = [(0.0,0.9), (0.0,-1.1),\n",
    "                       (1.0, 0.0), (-1.0, 0.0)]\n",
    "        return random.choice(stepChoices)"
   ]
  }
 ],
 "metadata": {
  "kernelspec": {
   "display_name": "Python 3",
   "language": "python",
   "name": "python3"
  },
  "language_info": {
   "codemirror_mode": {
    "name": "ipython",
    "version": 3
   },
   "file_extension": ".py",
   "mimetype": "text/x-python",
   "name": "python",
   "nbconvert_exporter": "python",
   "pygments_lexer": "ipython3",
   "version": "3.8.5"
  }
 },
 "nbformat": 4,
 "nbformat_minor": 4
}
