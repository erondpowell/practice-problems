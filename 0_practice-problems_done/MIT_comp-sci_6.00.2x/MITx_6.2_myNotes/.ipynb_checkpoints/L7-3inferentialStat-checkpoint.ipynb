{
 "cells": [
  {
   "cell_type": "markdown",
   "metadata": {},
   "source": [
    "# Distributions"
   ]
  },
  {
   "cell_type": "code",
   "execution_count": null,
   "metadata": {},
   "outputs": [],
   "source": []
  },
  {
   "cell_type": "code",
   "execution_count": 2,
   "metadata": {},
   "outputs": [],
   "source": [
    "import random, pylab, scipy.integrate"
   ]
  },
  {
   "cell_type": "markdown",
   "metadata": {},
   "source": [
    "### Format the pylab plot"
   ]
  },
  {
   "cell_type": "code",
   "execution_count": 6,
   "metadata": {},
   "outputs": [],
   "source": [
    "#set line width\n",
    "pylab.rcParams['lines.linewidth'] = 4\n",
    "#set font size for titles \n",
    "pylab.rcParams['axes.titlesize'] = 20\n",
    "#set font size for labels on axes\n",
    "pylab.rcParams['axes.labelsize'] = 20\n",
    "#set size of numbers on x-axis\n",
    "pylab.rcParams['xtick.labelsize'] = 16\n",
    "#set size of numbers on y-axis\n",
    "pylab.rcParams['ytick.labelsize'] = 16\n",
    "#set size of ticks on x-axis\n",
    "pylab.rcParams['xtick.major.size'] = 7\n",
    "#set size of ticks on y-axis\n",
    "pylab.rcParams['ytick.major.size'] = 7\n",
    "#set size of markers, e.g., circles representing points\n",
    "#set numpoints for legend\n",
    "pylab.rcParams['legend.numpoints'] = 1"
   ]
  },
  {
   "cell_type": "markdown",
   "metadata": {},
   "source": [
    "### Create a gaussian distribution"
   ]
  },
  {
   "cell_type": "markdown",
   "metadata": {},
   "source": [
    "The following code generates 100,000 a range of 100,000 then appends random values according to a Gaussian distribution. `Pylab.hist(dist, 30)` plots these values as a histogram. `dist` is graphed on the x-axis. The second parameter `30` shows 30 elements from the array objects."
   ]
  },
  {
   "cell_type": "code",
   "execution_count": 17,
   "metadata": {},
   "outputs": [
    {
     "data": {
      "text/plain": [
       "(array([4.0000e+00, 5.0000e+00, 2.0000e+01, 3.6000e+01, 1.0400e+02,\n",
       "        2.3000e+02, 4.9600e+02, 1.0060e+03, 1.7110e+03, 3.1240e+03,\n",
       "        4.7370e+03, 6.8890e+03, 8.6590e+03, 1.0610e+04, 1.1467e+04,\n",
       "        1.1619e+04, 1.0833e+04, 9.0970e+03, 7.0990e+03, 5.0500e+03,\n",
       "        3.2060e+03, 1.9370e+03, 1.0730e+03, 5.4400e+02, 2.6400e+02,\n",
       "        1.1300e+02, 4.1000e+01, 2.2000e+01, 2.0000e+00, 2.0000e+00]),\n",
       " array([-133.03895153, -124.20636454, -115.37377755, -106.54119057,\n",
       "         -97.70860358,  -88.87601659,  -80.04342961,  -71.21084262,\n",
       "         -62.37825564,  -53.54566865,  -44.71308166,  -35.88049468,\n",
       "         -27.04790769,  -18.21532071,   -9.38273372,   -0.55014673,\n",
       "           8.28244025,   17.11502724,   25.94761423,   34.78020121,\n",
       "          43.6127882 ,   52.44537518,   61.27796217,   70.11054916,\n",
       "          78.94313614,   87.77572313,   96.60831011,  105.4408971 ,\n",
       "         114.27348409,  123.10607107,  131.93865806]),\n",
       " <BarContainer object of 30 artists>)"
      ]
     },
     "execution_count": 17,
     "metadata": {},
     "output_type": "execute_result"
    },
    {
     "data": {
      "image/png": "[encoded data removed]",
      "text/plain": [
       "<Figure size 432x288 with 1 Axes>"
      ]
     },
     "metadata": {
      "needs_background": "light"
     },
     "output_type": "display_data"
    }
   ],
   "source": [
    "dist = []\n",
    "for i in range(100000):\n",
    "    dist.append(random.gauss(0, 30))\n",
    "pylab.hist(dist, 30)"
   ]
  },
  {
   "cell_type": "markdown",
   "metadata": {},
   "source": [
    "### Gaussian"
   ]
  },
  {
   "cell_type": "markdown",
   "metadata": {},
   "source": [
    "The function `Gaussian` returns y for a given value `x`. It takes in:\n",
    "\n",
    "    - `x` \n",
    "    - `mu` the average\n",
    "    - `sigma` the standard deviation\n",
    "    \n"
   ]
  },
  {
   "cell_type": "code",
   "execution_count": 18,
   "metadata": {},
   "outputs": [],
   "source": [
    "def gaussian(x, mu, sigma):\n",
    "    #return 37\n",
    "    factor1 = (1.0/(sigma*((2*pylab.pi)**0.5)))\n",
    "    factor2 = pylab.e**-(((x-mu)**2)/(2*sigma**2))\n",
    "    return factor1*factor2"
   ]
  },
  {
   "cell_type": "markdown",
   "metadata": {},
   "source": [
    "### checkEmpirical"
   ]
  },
  {
   "cell_type": "markdown",
   "metadata": {},
   "source": [
    "This code iterates `numTrials` times. On each iteration:\n",
    "- `mu` is assigned a random integer -10 to 10\n",
    "- `Sigma` is assigned a random integer 1-9\n",
    "- These values then get printed out\n",
    "- Then for each of three standard deviations `(1, 1.96, 3)`:\n",
    "    - The area under each standard deviaiton is found by using `scipy.integrate.quad`, which finds a single integral.\n",
    "    - `gaussian` is passed in as the function to be integrated. The following two params define the upper and lower limits, respectively."
   ]
  },
  {
   "cell_type": "code",
   "execution_count": 20,
   "metadata": {},
   "outputs": [],
   "source": [
    "def checkEmpirical(numTrials):\n",
    "  for t in range(numTrials):\n",
    "     mu = random.randint(-10, 10)\n",
    "     sigma = random.randint(1, 10)\n",
    "     print('For mu =', mu, 'and sigma =', sigma)\n",
    "     for numStd in (1, 1.96, 3):\n",
    "        area = scipy.integrate.quad(gaussian,\n",
    "                                    mu-numStd*sigma,\n",
    "                                    mu+numStd*sigma,\n",
    "                                    (mu, sigma))[0]\n",
    "        print('  Fraction within', numStd, 'std =', round(area, 4))"
   ]
  },
  {
   "cell_type": "markdown",
   "metadata": {},
   "source": [
    "### This need no explanation."
   ]
  },
  {
   "cell_type": "code",
   "execution_count": 12,
   "metadata": {},
   "outputs": [
    {
     "name": "stdout",
     "output_type": "stream",
     "text": [
      "For mu = 3 and sigma = 3\n",
      "  Fraction within 1 std = 222.0\n",
      "  Fraction within 1.96 std = 435.12\n",
      "  Fraction within 3 std = 666.0\n",
      "For mu = -3 and sigma = 2\n",
      "  Fraction within 1 std = 148.0\n",
      "  Fraction within 1.96 std = 290.08\n",
      "  Fraction within 3 std = 444.0\n",
      "For mu = 6 and sigma = 4\n",
      "  Fraction within 1 std = 296.0\n",
      "  Fraction within 1.96 std = 580.16\n",
      "  Fraction within 3 std = 888.0\n"
     ]
    }
   ],
   "source": [
    "checkEmpirical(3)"
   ]
  },
  {
   "cell_type": "code",
   "execution_count": null,
   "metadata": {},
   "outputs": [],
   "source": []
  }
 ],
 "metadata": {
  "kernelspec": {
   "display_name": "Python 3",
   "language": "python",
   "name": "python3"
  },
  "language_info": {
   "codemirror_mode": {
    "name": "ipython",
    "version": 3
   },
   "file_extension": ".py",
   "mimetype": "text/x-python",
   "name": "python",
   "nbconvert_exporter": "python",
   "pygments_lexer": "ipython3",
   "version": "3.8.5"
  }
 },
 "nbformat": 4,
 "nbformat_minor": 4
}
