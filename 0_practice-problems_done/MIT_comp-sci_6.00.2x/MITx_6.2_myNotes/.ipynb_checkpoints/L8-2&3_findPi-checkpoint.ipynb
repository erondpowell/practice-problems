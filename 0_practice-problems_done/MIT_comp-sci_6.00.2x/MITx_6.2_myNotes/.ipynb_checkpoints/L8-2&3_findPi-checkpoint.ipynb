{
 "cells": [
  {
   "cell_type": "markdown",
   "metadata": {},
   "source": [
    "Back in the day, a lot of people tried to guess the value of pi. But they couldn't do it because it's really hard.\n",
    "\n",
    "Finally, some french guys tried throwing needles and a circle and a square and getting the ratio of needles that landed in the circle and the ratio that landed in the square. Which is pretty much bascially a Monte Carlo Simulation. Let's recreate that asap."
   ]
  },
  {
   "cell_type": "code",
   "execution_count": null,
   "metadata": {},
   "outputs": [],
   "source": [
    "import pylab"
   ]
  },
  {
   "cell_type": "markdown",
   "metadata": {},
   "source": [
    "But actually, first let's format the pylab graph."
   ]
  },
  {
   "cell_type": "code",
   "execution_count": 2,
   "metadata": {},
   "outputs": [],
   "source": [
    "#set line width\n",
    "pylab.rcParams['lines.linewidth'] = 4\n",
    "#set font size for titles \n",
    "pylab.rcParams['axes.titlesize'] = 20\n",
    "#set font size for labels on axes\n",
    "pylab.rcParams['axes.labelsize'] = 20\n",
    "#set size of numbers on x-axis\n",
    "pylab.rcParams['xtick.labelsize'] = 16\n",
    "#set size of numbers on y-axis\n",
    "pylab.rcParams['ytick.labelsize'] = 16\n",
    "#set size of ticks on x-axis\n",
    "pylab.rcParams['xtick.major.size'] = 7\n",
    "#set size of ticks on y-axis\n",
    "pylab.rcParams['ytick.major.size'] = 7\n",
    "#set size of markers, e.g., circles representing points\n",
    "pylab.rcParams['lines.markersize'] = 10\n",
    "#set number of times marker is shown when displaying legend\n",
    "pylab.rcParams['legend.numpoints'] = 1"
   ]
  },
  {
   "cell_type": "markdown",
   "metadata": {},
   "source": [
    "Aight, let's hit it. Import modules."
   ]
  },
  {
   "cell_type": "code",
   "execution_count": 3,
   "metadata": {},
   "outputs": [],
   "source": [
    "import random, numpy"
   ]
  },
  {
   "cell_type": "markdown",
   "metadata": {},
   "source": [
    "### throwNeedles"
   ]
  },
  {
   "cell_type": "markdown",
   "metadata": {},
   "source": [
    "throwNeedles takes in a number of needles `numNeedels`, simulates throwing them at a circle with a radius of 1 and counts the needles that land in the circle bounds.\n",
    "\n",
    "For each needle, a random value between 0 and 1 are assigned to `x` and `y`.\n",
    "The if statement uses the pythagorean theorem to check if the needles land in the circle.\n",
    "the returned ratio is multiplied by four, because the above simulation only threw needles at the first quadrant."
   ]
  },
  {
   "cell_type": "code",
   "execution_count": 4,
   "metadata": {},
   "outputs": [],
   "source": [
    "def throwNeedles(numNeedles):\n",
    "    inCircle = 0\n",
    "    for Needles in range(1, numNeedles + 1, 1):\n",
    "        x = random.random()\n",
    "        y = random.random()\n",
    "        if (x*x + y*y)**0.5 <= 1.0:\n",
    "            inCircle += 1\n",
    "    return 4*(inCircle/float(numNeedles))"
   ]
  },
  {
   "cell_type": "markdown",
   "metadata": {},
   "source": [
    "### getEst"
   ]
  },
  {
   "cell_type": "markdown",
   "metadata": {},
   "source": [
    "`getEst` runs `throwNeedles` for a number `numTrials` times. Each rariud approximation is appneded to `estimates`.\n",
    "Looks like standard deviation doesn't even need to be hand calculated. You can just use numpy on an iterable.\n",
    "The mean estimate is bound to`curEst`. The mean, std deviation and total number of needels are printed out. `curEst` and`sDev` are returned as a tuple."
   ]
  },
  {
   "cell_type": "code",
   "execution_count": 5,
   "metadata": {},
   "outputs": [],
   "source": [
    "def getEst(numNeedles, numTrials):\n",
    "    estimates = []\n",
    "    for t in range(numTrials):\n",
    "        piGuess = throwNeedles(numNeedles)\n",
    "        estimates.append(piGuess)\n",
    "    sDev = numpy.std(estimates)\n",
    "    curEst = sum(estimates)/len(estimates)\n",
    "    print('Est. = ' + str(curEst) +\\\n",
    "          ', Std. dev. = ' + str(round(sDev, 6))\\\n",
    "          + ', Needles = ' + str(numNeedles))\n",
    "    return (curEst, sDev)"
   ]
  },
  {
   "cell_type": "markdown",
   "metadata": {},
   "source": [
    "### estPi"
   ]
  },
  {
   "cell_type": "markdown",
   "metadata": {},
   "source": [
    "`estimatePi` takes in `precision`, which is a degree of precision which must be met and `numtrials`.\n",
    "\n",
    "`numNeedles` is set within the function. `sDev` is set to equal precision.\n",
    "\n"
   ]
  },
  {
   "cell_type": "code",
   "execution_count": null,
   "metadata": {},
   "outputs": [],
   "source": [
    "def estPi(precision, numTrials):\n",
    "    numNeedles = 1000\n",
    "    sDev = precision\n",
    "    while sDev >= precision/1.96:\n",
    "        curEst, sDev = getEst(numNeedles, numTrials)\n",
    "        numNeedles *= 2\n",
    "    return curEst"
   ]
  },
  {
   "cell_type": "markdown",
   "metadata": {},
   "source": [
    "### call `EstPi()`"
   ]
  },
  {
   "cell_type": "code",
   "execution_count": null,
   "metadata": {},
   "outputs": [],
   "source": [
    "random.seed(0)\n",
    "estPi(0.005, 100)"
   ]
  },
  {
   "cell_type": "markdown",
   "metadata": {},
   "source": [
    "### integrate"
   ]
  },
  {
   "cell_type": "code",
   "execution_count": null,
   "metadata": {},
   "outputs": [],
   "source": []
  },
  {
   "cell_type": "code",
   "execution_count": 8,
   "metadata": {},
   "outputs": [],
   "source": [
    "def integrate(f, a, b, step):\n",
    "    yVals, xVals = [], []\n",
    "    xVal = a\n",
    "    while xVal <= b:\n",
    "        xVals.append(xVal)\n",
    "        yVals.append(f(xVal))\n",
    "        xVal += step\n",
    "    pylab.plot(xVals, yVals)\n",
    "    pylab.title('sin(x)')\n",
    "    pylab.xlim(a, b)\n",
    "    xUnders, yUnders, xOvers, yOvers = [],[],[],[]\n",
    "    for i in range(500):\n",
    "        xVal = random.uniform(a, b)\n",
    "        yVal = random.uniform(0, 1)\n",
    "        if yVal < f(xVal):\n",
    "            xUnders.append(xVal)\n",
    "            yUnders.append(yVal)\n",
    "        else:\n",
    "            xOvers.append(xVal)\n",
    "            yOvers.append(yVal)\n",
    "    pylab.plot(xUnders, yUnders, 'ro')\n",
    "    pylab.plot(xOvers, yOvers, 'ko')\n",
    "    pylab.xlim(a, b)\n",
    "    ratio = len(xUnders)/(len(xUnders) + len(yUnders))\n",
    "    print(ratio)\n",
    "    print(ratio*b)"
   ]
  },
  {
   "cell_type": "markdown",
   "metadata": {},
   "source": [
    "### WTF??"
   ]
  },
  {
   "cell_type": "code",
   "execution_count": 9,
   "metadata": {},
   "outputs": [],
   "source": [
    "def one(x):\n",
    "    return 0.9"
   ]
  },
  {
   "cell_type": "code",
   "execution_count": null,
   "metadata": {},
   "outputs": [],
   "source": []
  },
  {
   "cell_type": "code",
   "execution_count": null,
   "metadata": {},
   "outputs": [],
   "source": [
    "integrate(one, 0, math.pi, 0.001)"
   ]
  }
 ],
 "metadata": {
  "kernelspec": {
   "display_name": "Python 3",
   "language": "python",
   "name": "python3"
  },
  "language_info": {
   "codemirror_mode": {
    "name": "ipython",
    "version": 3
   },
   "file_extension": ".py",
   "mimetype": "text/x-python",
   "name": "python",
   "nbconvert_exporter": "python",
   "pygments_lexer": "ipython3",
   "version": "3.8.5"
  }
 },
 "nbformat": 4,
 "nbformat_minor": 4
}
