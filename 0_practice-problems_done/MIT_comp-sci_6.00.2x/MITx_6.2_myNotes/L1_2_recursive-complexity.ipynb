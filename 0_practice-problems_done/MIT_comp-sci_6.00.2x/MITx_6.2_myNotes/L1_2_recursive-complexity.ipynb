{
 "cells": [
  {
   "cell_type": "markdown",
   "metadata": {},
   "source": [
    "<b>Review this problem and see what's up</b>"
   ]
  },
  {
   "cell_type": "code",
   "execution_count": 17,
   "metadata": {},
   "outputs": [],
   "source": [
    "lst = [1,2,3,4]"
   ]
  },
  {
   "cell_type": "code",
   "execution_count": 18,
   "metadata": {},
   "outputs": [],
   "source": [
    "def get_all_subsets(some_list):\n",
    "    \"\"\"Returns all subsets of size 0 - len(some_list) for some_list\"\"\"\n",
    "    if len(some_list) == 0:\n",
    "        # If the list is empty, return the empty list\n",
    "        return [[]]\n",
    "    subsets = []\n",
    "    first_elt = some_list[0]\n",
    "    rest_list = some_list[1:]\n",
    "    # Strategy: Get all the subsets of rest_list; for each\n",
    "    # of those subsets, a full subset list will contain both\n",
    "    # the original subset as well as a version of the subset\n",
    "    # that contains first_elt\n",
    "    z = 0\n",
    "    for partial_subset in get_all_subsets(rest_list):\n",
    "        z+=1\n",
    "        print('depth:', z)\n",
    "        subsets.append(partial_subset)\n",
    "        next_subset = partial_subset[:] + [first_elt]\n",
    "        subsets.append(next_subset)\n",
    "        print('printing subsets:', subsets)\n",
    "    return subsets"
   ]
  },
  {
   "cell_type": "code",
   "execution_count": 19,
   "metadata": {},
   "outputs": [
    {
     "name": "stdout",
     "output_type": "stream",
     "text": [
      "depth: 1\n",
      "printing subsets: [[], [4]]\n",
      "depth: 1\n",
      "printing subsets: [[], [3]]\n",
      "depth: 2\n",
      "printing subsets: [[], [3], [4], [4, 3]]\n",
      "depth: 1\n",
      "printing subsets: [[], [2]]\n",
      "depth: 2\n",
      "printing subsets: [[], [2], [3], [3, 2]]\n",
      "depth: 3\n",
      "printing subsets: [[], [2], [3], [3, 2], [4], [4, 2]]\n",
      "depth: 4\n",
      "printing subsets: [[], [2], [3], [3, 2], [4], [4, 2], [4, 3], [4, 3, 2]]\n",
      "depth: 1\n",
      "printing subsets: [[], [1]]\n",
      "depth: 2\n",
      "printing subsets: [[], [1], [2], [2, 1]]\n",
      "depth: 3\n",
      "printing subsets: [[], [1], [2], [2, 1], [3], [3, 1]]\n",
      "depth: 4\n",
      "printing subsets: [[], [1], [2], [2, 1], [3], [3, 1], [3, 2], [3, 2, 1]]\n",
      "depth: 5\n",
      "printing subsets: [[], [1], [2], [2, 1], [3], [3, 1], [3, 2], [3, 2, 1], [4], [4, 1]]\n",
      "depth: 6\n",
      "printing subsets: [[], [1], [2], [2, 1], [3], [3, 1], [3, 2], [3, 2, 1], [4], [4, 1], [4, 2], [4, 2, 1]]\n",
      "depth: 7\n",
      "printing subsets: [[], [1], [2], [2, 1], [3], [3, 1], [3, 2], [3, 2, 1], [4], [4, 1], [4, 2], [4, 2, 1], [4, 3], [4, 3, 1]]\n",
      "depth: 8\n",
      "printing subsets: [[], [1], [2], [2, 1], [3], [3, 1], [3, 2], [3, 2, 1], [4], [4, 1], [4, 2], [4, 2, 1], [4, 3], [4, 3, 1], [4, 3, 2], [4, 3, 2, 1]]\n"
     ]
    },
    {
     "data": {
      "text/plain": [
       "[[],\n",
       " [1],\n",
       " [2],\n",
       " [2, 1],\n",
       " [3],\n",
       " [3, 1],\n",
       " [3, 2],\n",
       " [3, 2, 1],\n",
       " [4],\n",
       " [4, 1],\n",
       " [4, 2],\n",
       " [4, 2, 1],\n",
       " [4, 3],\n",
       " [4, 3, 1],\n",
       " [4, 3, 2],\n",
       " [4, 3, 2, 1]]"
      ]
     },
     "execution_count": 19,
     "metadata": {},
     "output_type": "execute_result"
    }
   ],
   "source": [
    "get_all_subsets(lst)"
   ]
  },
  {
   "cell_type": "code",
   "execution_count": 2,
   "metadata": {},
   "outputs": [],
   "source": [
    "NUMBER = 3\n",
    "\n",
    "def look_for_all_the_things(myList):\n",
    "    \"\"\"Looks at all subsets of this list\"\"\"\n",
    "    # Make subsets\n",
    "    all_subsets = get_all_subsets(myList)\n",
    "    for subset in all_subsets:\n",
    "        if sum(subset) == NUMBER:\n",
    "            return True\n",
    "    return False"
   ]
  },
  {
   "cell_type": "code",
   "execution_count": 7,
   "metadata": {},
   "outputs": [
    {
     "data": {
      "text/plain": [
       "True"
      ]
     },
     "execution_count": 7,
     "metadata": {},
     "output_type": "execute_result"
    }
   ],
   "source": [
    "look_for_all_the_things(lst)"
   ]
  },
  {
   "cell_type": "code",
   "execution_count": null,
   "metadata": {},
   "outputs": [],
   "source": []
  }
 ],
 "metadata": {
  "kernelspec": {
   "display_name": "Python 3",
   "language": "python",
   "name": "python3"
  },
  "language_info": {
   "codemirror_mode": {
    "name": "ipython",
    "version": 3
   },
   "file_extension": ".py",
   "mimetype": "text/x-python",
   "name": "python",
   "nbconvert_exporter": "python",
   "pygments_lexer": "ipython3",
   "version": "3.8.5"
  }
 },
 "nbformat": 4,
 "nbformat_minor": 4
}
