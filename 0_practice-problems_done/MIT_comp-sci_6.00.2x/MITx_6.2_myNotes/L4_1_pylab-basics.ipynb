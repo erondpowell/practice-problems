{
 "cells": [
  {
   "cell_type": "markdown",
   "metadata": {},
   "source": [
    "# Data Visualization with PyLab"
   ]
  },
  {
   "cell_type": "markdown",
   "metadata": {},
   "source": [
    "Pylab is a module for graphical data visualization (so it turns data into graphs). It is part of the matplotlib library. This is helpful for data anlaysis of all kinds. at the end of this lesson, after you learn how to use the basic commands, we will learn to use it to visualize orders of growth within our code."
   ]
  },
  {
   "cell_type": "code",
   "execution_count": null,
   "metadata": {},
   "outputs": [],
   "source": [
    "import pylab as plt"
   ]
  },
  {
   "cell_type": "markdown",
   "metadata": {},
   "source": [
    "The is useful anytime you need to visualize data.\n",
    "\n",
    "Let's use pylab to graph out and visualize computational complexity of algorithms. In the following code, we create 5 lists. `mySamples` will serves as points for the x-axis. `myLinear`, `myQuadratic` and `myExponential` will serve as y-axes."
   ]
  },
  {
   "cell_type": "code",
   "execution_count": null,
   "metadata": {},
   "outputs": [],
   "source": [
    "mySamples = []\n",
    "myLinear = []\n",
    "myQuadratic = []\n",
    "myCubic = []\n",
    "myExponential = []"
   ]
  },
  {
   "cell_type": "markdown",
   "metadata": {},
   "source": [
    "Let's fill up the lists so we can make our graphs."
   ]
  },
  {
   "cell_type": "code",
   "execution_count": null,
   "metadata": {},
   "outputs": [],
   "source": [
    "for i in range(0, 30):\n",
    "    mySamples.append(i)\n",
    "    myLinear.append(i)\n",
    "    myQuadratic.append(i**2)\n",
    "    myCubic.append(i**3)\n",
    "    myExponential.append(1.5**i) #2**i grows so fast it is too hard to visualize and compare to these other growth types"
   ]
  },
  {
   "cell_type": "markdown",
   "metadata": {},
   "source": [
    "## Create a Plot Graph"
   ]
  },
  {
   "cell_type": "markdown",
   "metadata": {},
   "source": [
    "#### `plt.plot(x, y)`"
   ]
  },
  {
   "cell_type": "markdown",
   "metadata": {},
   "source": [
    "The simplest way to plot data on a visual graph is with `plt.plot(x,y)`. This method takes two lists of equal length and creates a data visualization."
   ]
  },
  {
   "cell_type": "code",
   "execution_count": null,
   "metadata": {},
   "outputs": [],
   "source": [
    "#run this cell\n",
    "plt.plot(mySamples, myLinear)"
   ]
  },
  {
   "cell_type": "markdown",
   "metadata": {},
   "source": [
    "If you make `multiple pl.plot(x, y)` calls, they will all move into a single window."
   ]
  },
  {
   "cell_type": "code",
   "execution_count": null,
   "metadata": {},
   "outputs": [],
   "source": [
    "# plot out the remaining orders of growth: myCubic, myQuadratic, myExponential:\n",
    "\n"
   ]
  },
  {
   "cell_type": "markdown",
   "metadata": {},
   "source": [
    "Click the three dots below to see the answer."
   ]
  },
  {
   "cell_type": "code",
   "execution_count": null,
   "metadata": {},
   "outputs": [],
   "source": [
    "plt.plot(mySamples, myLinear)\n",
    "plt.plot(mySamples, myQuadratic)\n",
    "plt.plot(mySamples, myCubic)\n",
    "plt.plot(mySamples, myExponential)"
   ]
  },
  {
   "cell_type": "markdown",
   "metadata": {},
   "source": [
    "It's not really useful to compare exponential with other types of growth on a single graph. Exponential growth moves too fast and other growth types can't be seen clearly. Let's put each line on it's own graph."
   ]
  },
  {
   "cell_type": "markdown",
   "metadata": {},
   "source": [
    "## Create a Figure"
   ]
  },
  {
   "cell_type": "markdown",
   "metadata": {},
   "source": [
    "#### `plt.figure('figure name')`"
   ]
  },
  {
   "cell_type": "markdown",
   "metadata": {},
   "source": [
    "You can create multiple graphs to display data with the `.figure()` method shown above. Once you create a new figure (aka plot graph, aka window) you can label it, label the axes, switch out data being graphed, change line colors and more."
   ]
  },
  {
   "cell_type": "code",
   "execution_count": null,
   "metadata": {},
   "outputs": [],
   "source": [
    "# Run This Cell:\n",
    "\n",
    "plt.figure('Linear')\n",
    "plt.plot(mySamples, myLinear)\n",
    "#plt.figure('Quadratic')            # uncomment the method and run again.\n",
    "plt.plot(mySamples, myQuadratic)"
   ]
  },
  {
   "cell_type": "markdown",
   "metadata": {},
   "source": [
    "This puts the `plt.plot(x, y)` calls immediately under `.figure()` into one window, and assigns that window a string name. In this example case, the name is `Linear`. You can reopen, and read or edit `Linear` later."
   ]
  },
  {
   "cell_type": "markdown",
   "metadata": {},
   "source": [
    "This allows you to output to multiple windows at the same time. If this is not used, all plots will be shown in the same window."
   ]
  },
  {
   "cell_type": "code",
   "execution_count": null,
   "metadata": {},
   "outputs": [],
   "source": [
    "plt.plot(mySamples, myCubic)\n",
    "plt.plot(mySamples, myExponential)"
   ]
  },
  {
   "cell_type": "markdown",
   "metadata": {},
   "source": [
    "## Label Axes"
   ]
  },
  {
   "cell_type": "markdown",
   "metadata": {},
   "source": [
    "#### `plt.xlabel('x-axis label')`\n",
    "\n",
    "#### `plt.ylabel('y-axis label')`"
   ]
  },
  {
   "cell_type": "markdown",
   "metadata": {},
   "source": [
    "These two functions allow labeling of the axes. The ordering of the functions below is important."
   ]
  },
  {
   "cell_type": "code",
   "execution_count": null,
   "metadata": {},
   "outputs": [],
   "source": [
    "plt.figure('Linear Growth')\n",
    "plt.xlabel('sample points')\n",
    "plt.ylabel('linear function')\n",
    "plt.plot(mySamples, myLinear)"
   ]
  },
  {
   "cell_type": "code",
   "execution_count": null,
   "metadata": {},
   "outputs": [],
   "source": [
    "# Relabel the graph and axes for the other 3 orders of growth.\n",
    "plt.figure('Quadratic Growth')\n",
    "plt.xlabel('sample points')\n",
    "plt.ylabel('quadratic function')\n",
    "plt.plot(mySamples, myQuadratic)\n",
    "\n",
    "plt.figure('Cubic Growth')\n",
    "plt.xlabel('sample points')\n",
    "plt.ylabel('cubic function')\n",
    "plt.plot(mySamples, myCubic)"
   ]
  },
  {
   "cell_type": "markdown",
   "metadata": {},
   "source": [
    "## Add a Title"
   ]
  },
  {
   "cell_type": "markdown",
   "metadata": {},
   "source": [
    "We can label graph itself with the `.title('Graph Title')` method. Let's do that:"
   ]
  },
  {
   "cell_type": "code",
   "execution_count": null,
   "metadata": {},
   "outputs": [],
   "source": [
    "# Run this code. The uncomment the second line and run it again:\n",
    "plt.figure('Linear')\n",
    "plt.title('Linear Growth')\n",
    "plt.plot(mySamples, myLinear)"
   ]
  },
  {
   "cell_type": "code",
   "execution_count": null,
   "metadata": {},
   "outputs": [],
   "source": [
    "# Add titles for the other 3 growth charts and print the graphs out:\n",
    "# Click the 3 dots below to see the answer"
   ]
  },
  {
   "cell_type": "code",
   "execution_count": null,
   "metadata": {
    "jupyter": {
     "source_hidden": true
    }
   },
   "outputs": [],
   "source": [
    "plt.figure('Quadratic')\n",
    "plt.title('Quadratic Growth')\n",
    "plt.plot(mySamples, myQuadratic)\n",
    "\n",
    "plt.figure('Cubic')\n",
    "plt.title('Cubic Growth')\n",
    "plt.plot(mySamples, myCubic)\n",
    "\n",
    "plt.figure('Exponential')\n",
    "plt.title('Exponential Growth')\n",
    "plt.plot(mySamples, myExponential)\n"
   ]
  },
  {
   "cell_type": "markdown",
   "metadata": {},
   "source": [
    "## Clear the Windows"
   ]
  },
  {
   "cell_type": "markdown",
   "metadata": {},
   "source": [
    "#### `plt.clf()`"
   ]
  },
  {
   "cell_type": "markdown",
   "metadata": {},
   "source": [
    "If you notice the plots from above, the same colors are being used again and again. Blue seems to get used first, then orange, then green, then red. This is because you are using the same 4 pylab windows in all the calls above that we created with `plt.figure()`. Plot values, axis labels, and graph names are getting redefined in the same window.\n",
    "\n",
    "Since figures are getting reused, things can get messy. For example, you may reuse `plt.figure('Linear Growth')` multiple times and you may need to be sure you clear out data it is holding from a previous call."
   ]
  },
  {
   "cell_type": "code",
   "execution_count": null,
   "metadata": {},
   "outputs": [],
   "source": [
    "# Follow the instructions below.\n",
    "\n",
    "plt.figure('Linear')\n",
    "\n",
    "# Uncomment the line below and run the cell. Not suprsisingly, it adds a title to the graph.\n",
    "#plt.title('Linear Growth')\n",
    "\n",
    "# Uncomment the line below and run the cell. A new orange line will be added, directly on top of the blue line.\n",
    "#plt.plot(mySamples, myLinear)\n",
    "\n",
    "# Uncomment the line below and run the cell. This clears out all previous modifications to the preceding figure.\n",
    "#plt.clf()\n",
    "\n",
    "plt.plot(mySamples, myLinear)"
   ]
  },
  {
   "cell_type": "markdown",
   "metadata": {},
   "source": [
    "## Comparing Plots"
   ]
  },
  {
   "cell_type": "markdown",
   "metadata": {},
   "source": [
    "When the scales of plots are extremely different, it is really hard to compare them. There are two ways to deal with this:\n",
    "- set limits explicitly (which pylab did for us automatically in the above examples)\n",
    "- plot multiple functions on the same graph (which we also tried, and found it hard to compare data, because exponential growth is\n",
    "so fast)\n",
    "\n",
    "When we compared graphs by putting them in the same window, this was a problem because exponential increased so quickly, and was not possible to see growth changes for linear and quadratic growth. Second, we put the graphs in separate windows, but this was also misleading because the y-axis columns are so different (the linear y-axis went to 30 and the exponential y-axis went somewhere over 120,000).\n",
    "\n",
    "Instead of using defaults, let's manually adjust these two parameters to make the data more easily comparable."
   ]
  },
  {
   "cell_type": "markdown",
   "metadata": {},
   "source": [
    "#### Change Limits on the Axes"
   ]
  },
  {
   "cell_type": "markdown",
   "metadata": {},
   "source": [
    "Changing the limits is one way to make dramatically different data more comparable. In the cell below, we use `plt.ylim(bottom, top)` to set the range of the y-axis.\n",
    "\n",
    "**Note:** you could also set the range on the x-axis with `plt.xlim(start_int, end_int)`"
   ]
  },
  {
   "cell_type": "code",
   "execution_count": null,
   "metadata": {},
   "outputs": [],
   "source": [
    "plt.figure('Linear')\n",
    "plt.clf()\n",
    "plt.title('Linear Growth')\n",
    "plt.ylim(0, 1000)                # In case it wasn't obvious, this sets the y-axis from 0 to 30.\n",
    "plt.plot(mySamples, myLinear)\n",
    "\n",
    "# Remove the quotations from around the code below\n",
    "'''\n",
    "plt.figure('Quadratic Growth')\n",
    "plt.clf()\n",
    "plt.ylim(0,1000)\n",
    "plt.title('Quadratic Growth')\n",
    "plt.plot(mySamples, myQuadratic)\n",
    "'''"
   ]
  },
  {
   "cell_type": "markdown",
   "metadata": {},
   "source": [
    "In the example above we put the graphs into separate graphs but specified the y-limit. We could also put them in the same graph/window/figure."
   ]
  },
  {
   "cell_type": "code",
   "execution_count": null,
   "metadata": {},
   "outputs": [],
   "source": [
    "plt.figure('lin quad')\n",
    "plt.clf()\n",
    "plt.title('Linear vs Quadratic Growth')\n",
    "plt.ylim(0,1000)\n",
    "plt.plot(mySamples, myLinear)\n",
    "plt.plot(mySamples, myQuadratic)"
   ]
  },
  {
   "cell_type": "markdown",
   "metadata": {},
   "source": [
    "Now, since these two orders of growth are similar enough, we didn't have to actually adjust the y-limit. Which leads us to another strategy for comparing data, overlaying plots with similar growth."
   ]
  },
  {
   "cell_type": "markdown",
   "metadata": {},
   "source": [
    "#### Overlaying Plots with Similar Growth"
   ]
  },
  {
   "cell_type": "markdown",
   "metadata": {},
   "source": [
    "It can be useful to put plots with similar orders of growth into their own graphs/figures/windows. Doing this, we can:\n",
    "\n",
    "- linear to quadratic\n",
    "- quadratic to cubic\n",
    "- cubic to exponential"
   ]
  },
  {
   "cell_type": "code",
   "execution_count": null,
   "metadata": {},
   "outputs": [],
   "source": [
    "plt.figure('lin v quad')\n",
    "plt.clf()\n",
    "plt.title('Linear vs. Quadratic')\n",
    "plt.plot(mySamples, myLinear)\n",
    "plt.plot(mySamples, myQuadratic)\n",
    "\n",
    "\n",
    "plt.figure('quad cub')\n",
    "plt.clf()\n",
    "plt.title('Quadratic vs Cubic')\n",
    "plt.plot(mySamples, myQuadratic)\n",
    "plt.plot(mySamples, myCubic)\n",
    "\n",
    "\n",
    "plt.figure('cub expo')\n",
    "plt.clf()\n",
    "plt.title('Cubic vs Exponential')\n",
    "plt.plot(mySamples, myCubic)\n",
    "plt.plot(mySamples, myExponential)"
   ]
  },
  {
   "cell_type": "markdown",
   "metadata": {},
   "source": [
    "***Now you can overlay plots into the same window, put them in separate windows or adjust y-limits to make sense of the data as you see fit for any given occassion.***"
   ]
  },
  {
   "cell_type": "markdown",
   "metadata": {},
   "source": [
    "### Adding Legends"
   ]
  },
  {
   "cell_type": "markdown",
   "metadata": {},
   "source": [
    "To assign a legend to a graph, you must define the labels in the `plt.plot(x-data, y-data, label)` and then call the `.legend()` method. Read the code cell below closely:"
   ]
  },
  {
   "cell_type": "code",
   "execution_count": null,
   "metadata": {},
   "outputs": [],
   "source": [
    "plt.plot(mySamples, myLinear, label = 'linear')\n",
    "plt.plot(mySamples, myQuadratic, label = 'quadratic')\n",
    "plt.legend()"
   ]
  },
  {
   "cell_type": "markdown",
   "metadata": {},
   "source": [
    "#### Specify Legend Location"
   ]
  },
  {
   "cell_type": "markdown",
   "metadata": {},
   "source": [
    "You can specify the region in the graph that you would like the legend to appear with the `loc` parameter.\n",
    "\n",
    "```python\n",
    "plt.legend(loc = 'upper left')\n",
    "```"
   ]
  },
  {
   "cell_type": "code",
   "execution_count": null,
   "metadata": {},
   "outputs": [],
   "source": [
    "# Add a legend for a graph with the cubic function \n"
   ]
  },
  {
   "cell_type": "code",
   "execution_count": null,
   "metadata": {},
   "outputs": [],
   "source": [
    "plt.plot(mySamples, myQuadratic, label = 'quadratic')\n",
    "plt.legend(loc = 'upper left')"
   ]
  },
  {
   "cell_type": "code",
   "execution_count": null,
   "metadata": {},
   "outputs": [],
   "source": [
    "# Graph exponential growth and create a legend:\n"
   ]
  },
  {
   "cell_type": "markdown",
   "metadata": {},
   "source": [
    "## Control Display Parameters"
   ]
  },
  {
   "cell_type": "markdown",
   "metadata": {},
   "source": [
    "Let's look at how to change line color, line width, make lines into dots/stripes, crate subplots in a plot, etc.."
   ]
  },
  {
   "cell_type": "markdown",
   "metadata": {},
   "source": [
    "#### Change Color and Shape"
   ]
  },
  {
   "cell_type": "markdown",
   "metadata": {},
   "source": [
    "In the following code, we change the appearance of a line with `'ro'`:\n",
    "\n",
    "```python\n",
    "plt.plot(mySamples, myLinear, 'ro', label='linear')\n",
    "```\n",
    "Notice `'ro'` in this line of code. `r` will make the line red, and `o` will make the line  into circles.\n",
    "\n",
    "\n",
    "Read more about all the line customization options [here](https://matplotlib.org/stable/api/_as_gen/matplotlib.pyplot.plot.html). At the end of the page, there are tables of all the values you could use in this parameter."
   ]
  },
  {
   "cell_type": "code",
   "execution_count": null,
   "metadata": {},
   "outputs": [],
   "source": [
    "#Run Cell. Then add an 'o' to the end of string 'r'.\n",
    "\n",
    "plt.plot(mySamples, myLinear, 'r', label='linear')\n",
    "plt.legend()"
   ]
  },
  {
   "cell_type": "markdown",
   "metadata": {},
   "source": [
    "**Let's see a few more examples:**\n",
    "\n",
    "\n",
    "```python\n",
    "plt.plot(mySamples, myLinear, 'b^', label='linear')\n",
    "```\n",
    "`b` makes the line blue.\n",
    "\n",
    "```python\n",
    "plt.plot(mySamples, myLinear, 'y--', label='linear')\n",
    "```\n",
    "`y` makes the line yellow, `--` makes it into dashes.\n"
   ]
  },
  {
   "cell_type": "code",
   "execution_count": null,
   "metadata": {},
   "outputs": [],
   "source": [
    "plt.plot(mySamples, myLinear, 'b--', label='linear')\n",
    "#plt.plot(mySamples, myQuadratic, 'y-', label='Quadratic')\n",
    "plt.legend()"
   ]
  },
  {
   "cell_type": "markdown",
   "metadata": {},
   "source": [
    "#### Line Width"
   ]
  },
  {
   "cell_type": "markdown",
   "metadata": {},
   "source": [
    "You can change line width of a plot like so:"
   ]
  },
  {
   "cell_type": "code",
   "execution_count": null,
   "metadata": {},
   "outputs": [],
   "source": [
    "plt.plot(mySamples, myLinear, 'b--', label='linear', linewidth = 2)\n",
    "plt.plot(mySamples, myQuadratic, 'y--', label='linear', linewidth = 6)"
   ]
  },
  {
   "cell_type": "markdown",
   "metadata": {},
   "source": [
    "#### Subplots"
   ]
  },
  {
   "cell_type": "markdown",
   "metadata": {},
   "source": [
    "We can put multiple graphs into columns or rows in a window."
   ]
  },
  {
   "cell_type": "code",
   "execution_count": null,
   "metadata": {},
   "outputs": [],
   "source": [
    "plt.figure('lin quad')\n",
    "plt.clf()\n",
    "plt.subplot(211)\n",
    "plt.title('Linear vs. Quadratic')\n",
    "plt.plot(mySamples, myLinear, 'b--', label='linear', linewidth = 2)\n",
    "plt.legend()\n",
    "plt.subplot(212)\n",
    "plt.plot(mySamples, myQuadratic, 'y--', label='linear', linewidth = 6)\n",
    "plt.legend()"
   ]
  },
  {
   "cell_type": "markdown",
   "metadata": {},
   "source": [
    "Each number in `subplot('212')` modifies the graph:\n",
    "\n",
    "- num rows\n",
    "- num columns\n",
    "- location to use\n",
    "\n",
    "So `subplot('212')` displays a window with 2 rows of graphs, 1 column, and fills the second column with a plot (the plot given beneath it)."
   ]
  },
  {
   "cell_type": "code",
   "execution_count": null,
   "metadata": {},
   "outputs": [],
   "source": [
    "# Plot Cubic and Exponential growth as 2 columns and one row.\n",
    "\n"
   ]
  },
  {
   "cell_type": "code",
   "execution_count": null,
   "metadata": {
    "jupyter": {
     "source_hidden": true
    }
   },
   "outputs": [],
   "source": [
    "plt.figure('cub exp')\n",
    "plt.clf()\n",
    "plt.subplot(121)\n",
    "plt.title('Cubis vs. Expo')\n",
    "plt.plot(mySamples, myCubic, 'b--', label='cubic', linewidth = 2)\n",
    "plt.legend()\n",
    "plt.subplot(122)\n",
    "plt.plot(mySamples, myExponential, 'y--', label='exponential', linewidth = 6)\n",
    "plt.legend()"
   ]
  },
  {
   "cell_type": "markdown",
   "metadata": {},
   "source": [
    "## Changing Scales"
   ]
  },
  {
   "cell_type": "markdown",
   "metadata": {},
   "source": [
    "One last way to handle comparisons between plots with different orders of growth is to change scales on the graph."
   ]
  },
  {
   "cell_type": "code",
   "execution_count": null,
   "metadata": {},
   "outputs": [],
   "source": [
    "#Run this cell. Then uncomment plt.yscale() down below and rerun.\n",
    "\n",
    "plt.figure('cub quad')\n",
    "plt.clf()\n",
    "plt.title('cubic vs. Exponential')\n",
    "plt.plot(mySamples, myCubic, 'ko', label='linear', linewidth = 1)\n",
    "plt.plot(mySamples, myExponential, 'g^', label='exponential', linewidth = 1)\n",
    "#plt.yscale('log')\n",
    "plt.legend()"
   ]
  },
  {
   "cell_type": "markdown",
   "metadata": {},
   "source": [
    "Take note that the y-axis labels change when `plt.yscale` is changed."
   ]
  },
  {
   "cell_type": "markdown",
   "metadata": {},
   "source": [
    "In Lesson 4-2, we will use pylab to graph out comuptational complexity on several coding problems."
   ]
  },
  {
   "cell_type": "code",
   "execution_count": null,
   "metadata": {},
   "outputs": [],
   "source": []
  }
 ],
 "metadata": {
  "kernelspec": {
   "display_name": "Python 3",
   "language": "python",
   "name": "python3"
  },
  "language_info": {
   "codemirror_mode": {
    "name": "ipython",
    "version": 3
   },
   "file_extension": ".py",
   "mimetype": "text/x-python",
   "name": "python",
   "nbconvert_exporter": "python",
   "pygments_lexer": "ipython3",
   "version": "3.8.5"
  }
 },
 "nbformat": 4,
 "nbformat_minor": 4
}
