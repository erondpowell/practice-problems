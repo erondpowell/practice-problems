{
 "cells": [
  {
   "cell_type": "markdown",
   "metadata": {},
   "source": [
    "# Simulations"
   ]
  },
  {
   "cell_type": "markdown",
   "metadata": {},
   "source": [
    "**Simulations** are a description of computations that provide useful information about the possible behaviors of the system\n",
    "being modeled. These are great tools for makings guesses about the likelihood of future outcomes.\n",
    "\n",
    "\n",
    "Although simulations can never perfectly model reality, they give us a spectrum of possible outcomes that could manifest in reality. As we saw in the dice rolling simulations, with an accurate simulation and large enough trial set, we can begin to approximate the likelihood of given outcomes actually happening. \n",
    "\n",
    "It's important to remember that simulations are only an approximation to reality. As George Box said, \"All models are wrong, but some are useful.\" Furthermore, models should be regarded descriptive, not prescriptive. They can't tell you what to do. they just provide you the chances of what might happen. You must decide your risk aversion levels and make decisions on your own. Simulations are used to model:\n",
    "\n",
    "- systems that are mathematically intractible \n",
    "    - If you roll dice for a 6, there is a 1/6 chance of getting a 6. As you roll dice, you continuously get closer to rolling a 6 every 1 in 6 times. \n",
    "    - This is known. Sometimes the chances of events happening are not known and not so simple. \n",
    "- to extract useful intermediate results\n",
    "     - we should buy this stock because it's probably going to increase in price soon.    \n",
    "- good for development by successive refinement and 'what if' questions\n",
    "    - That is to say you can start of with a simple/bad model of reality and refine it iteratively\n",
    "    \n",
    "In the following sections, we will introduce simulations with random walks."
   ]
  },
  {
   "cell_type": "markdown",
   "metadata": {},
   "source": [
    "## Random Walks"
   ]
  },
  {
   "cell_type": "markdown",
   "metadata": {},
   "source": [
    "![random walk graph](https://i.stack.imgur.com/rUI8q.png)"
   ]
  },
  {
   "cell_type": "markdown",
   "metadata": {},
   "source": [
    "Random walks are super useful in modeling the stalk market and other diffusion processes (like chemicals or populations spreading around the world). They are not too complicated to simulate. They provide a great chance to continue building skills in classes and plotting."
   ]
  },
  {
   "cell_type": "markdown",
   "metadata": {},
   "source": [
    "<a href=\"https://www.youtube.com/watch?v=6wUD_gp5WeE\n",
    "\" target=\"_blank\"><img src=\"http://img.youtube.com/vi/YOUTUBE_VIDEO_ID_HERE/0.jpg\" \n",
    "alt=\"IMAGE ALT TEXT HERE\" width=\"240\" height=\"180\" border=\"10\" /></a>"
   ]
  },
  {
   "cell_type": "markdown",
   "metadata": {},
   "source": [
    "# The Drunkard's Walk"
   ]
  },
  {
   "cell_type": "markdown",
   "metadata": {},
   "source": [
    "In the folling lines, we will create a simulation of a drunk guy walking through a field. Imagine somebody so drunk, they are just walking in every which direction. They have an equal chance of going North, South, East or West. Then we will imagine a drunkard that has enough awareness to move slowly in some cardinal direction. We're also going to create a field with wormholes in it that teleport the drunks... just for fun. and to see how it affects the results."
   ]
  },
  {
   "cell_type": "markdown",
   "metadata": {},
   "source": [
    "## Random Walk Classes"
   ]
  },
  {
   "cell_type": "markdown",
   "metadata": {},
   "source": [
    "There will be three base classes needed to implement this random walk. Later, we will create subclasses for field and Drunk.\n",
    "\n",
    "- `Location` The coordinates within the field that a given drunkard is at.\n",
    "\n",
    "- `Field` The actual area the drunks can walk.\n",
    "\n",
    "- `Drunk` The person walking around at random."
   ]
  },
  {
   "cell_type": "code",
   "execution_count": 33,
   "metadata": {},
   "outputs": [],
   "source": [
    "import random"
   ]
  },
  {
   "cell_type": "markdown",
   "metadata": {},
   "source": [
    "#### Location Class"
   ]
  },
  {
   "cell_type": "markdown",
   "metadata": {},
   "source": [
    "When a `Location` object is instantiated, `x` and `y` coordinates are defined.\n",
    "\n",
    "The `.move()` method takes in `deltaX` and `deltaY`, which are equal to the change from current `x` and `y` values. It returns a recursive call and updates location by summing current location with change in location with `self.x + deltaX` and `self.y + deltaY`.\n",
    "\n",
    "The `.getX()` and `.getY()` getter methods safely return the current values of `x` and `y`, respectively.\n",
    "\n",
    "\n",
    "The `distFrom(self, other)` method returns the distance between a location and another location passed in as an argument, by using the pythagorean theorem.\n",
    "\n",
    "\n",
    "`__str__(self)` specifies the string representation for `Location`"
   ]
  },
  {
   "cell_type": "code",
   "execution_count": 21,
   "metadata": {},
   "outputs": [],
   "source": [
    "class Location(object):\n",
    "    def __init__(self, x, y):\n",
    "        \"\"\"x and y are numbers\"\"\"\n",
    "        self.x = x\n",
    "        self.y = y\n",
    "\n",
    "    def move(self, deltaX, deltaY):\n",
    "        \"\"\"deltaX and deltaY are numbers\"\"\"\n",
    "        return Location(self.x + deltaX, self.y + deltaY)\n",
    "\n",
    "    def getX(self):\n",
    "        return self.x\n",
    "\n",
    "    def getY(self):\n",
    "        return self.y\n",
    "\n",
    "    def distFrom(self, other):\n",
    "        ox = other.x\n",
    "        oy = other.y\n",
    "        xDist = self.x - ox\n",
    "        yDist = self.y - oy\n",
    "        return (xDist**2 + yDist**2)**0.5\n",
    "\n",
    "    def __str__(self):\n",
    "        return '<' + str(self.x) + ', ' + str(self.y) + '>'"
   ]
  },
  {
   "cell_type": "markdown",
   "metadata": {},
   "source": [
    "#### Field Class"
   ]
  },
  {
   "cell_type": "markdown",
   "metadata": {},
   "source": [
    "`Field` object's constructor method creates attribute `self.drunks` and sets it to equal an empty dicitonary.\n",
    "\n",
    "The `addDrunk` method takes in two parameters: `drunk` (a `drunk` object) and `loc` (a `Location` object associated with that `drunk`). It checks to makes sure the `drunk` isn't in the `Field` object's `self.drunk` dictionary yet, and if not, adds it in as a key with the value set to `loc`.\n",
    "\n",
    "The `moveDrunk` object takes in `drunk` as a parameter. If the `drunk` passed in is not in the `self.drunks` dictionary, a value error is raised. The value of `drunk.takesStep()` is unpacked into variables `xDist` and `yDist`. (For `usualDrunk` objects, the `drunk.takesStep()` method makes the `drunk` take a single, ranom step in any direction of the field.) `currentLocation` is set to equal the `loc` object for the `drunk`, and then the dictionary value for the passed in `drunk` is reset to be the value of `currentLocation.move(xDist, yDist)`. (The `.move()` method just move\n",
    "\n",
    "The `getLoc(self, drunk)` returns the location of a `drunk` or else raises a `ValueError` if drunk is not in `Field`."
   ]
  },
  {
   "cell_type": "code",
   "execution_count": 22,
   "metadata": {},
   "outputs": [],
   "source": [
    "class Field(object):\n",
    "    def __init__(self):\n",
    "        self.drunks = {}\n",
    "        \n",
    "    def addDrunk(self, drunk, loc):\n",
    "        if drunk in self.drunks:\n",
    "            raise ValueError('Duplicate drunk')\n",
    "        else:\n",
    "            self.drunks[drunk] = loc\n",
    "            \n",
    "    def moveDrunk(self, drunk):\n",
    "        if drunk not in self.drunks:\n",
    "            raise ValueError('Drunk not in field')\n",
    "        xDist, yDist = drunk.takeStep()\n",
    "        currentLocation = self.drunks[drunk]\n",
    "        #use move method of Location to get new location\n",
    "        self.drunks[drunk] = currentLocation.move(xDist, yDist)\n",
    "        \n",
    "    def getLoc(self, drunk):\n",
    "        if drunk not in self.drunks:\n",
    "            raise ValueError('Drunk not in field')\n",
    "        return self.drunks[drunk]"
   ]
  },
  {
   "cell_type": "markdown",
   "metadata": {},
   "source": [
    "#### Drunk"
   ]
  },
  {
   "cell_type": "markdown",
   "metadata": {},
   "source": [
    "This class is meant to be a base class.. That means it never gets used on its own. Subclasses inherit it, and those are what actually get used. \n",
    "\n",
    "On initialization, the `name` parameter is set to `None`, but can be manually overwritten. \n",
    "\n",
    "the `__str__()` method returns `Anonymous` if `self.name == None`, else returns `self.name` "
   ]
  },
  {
   "cell_type": "code",
   "execution_count": 23,
   "metadata": {},
   "outputs": [],
   "source": [
    "class Drunk(object):\n",
    "    def __init__(self, name = None):\n",
    "        \"\"\"Assumes name is a str\"\"\"\n",
    "        self.name = name\n",
    "\n",
    "    def __str__(self):\n",
    "        if self != None:\n",
    "            return self.name\n",
    "        return 'Anonymous'"
   ]
  },
  {
   "cell_type": "markdown",
   "metadata": {},
   "source": [
    "This `drunk` subclass simply takes a random step in any direction."
   ]
  },
  {
   "cell_type": "code",
   "execution_count": 24,
   "metadata": {},
   "outputs": [],
   "source": [
    "class UsualDrunk(Drunk):\n",
    "    def takeStep(self):\n",
    "        stepChoices = [(0,1), (0,-1), (1, 0), (-1, 0)]\n",
    "        return random.choice(stepChoices)"
   ]
  },
  {
   "cell_type": "markdown",
   "metadata": {},
   "source": [
    "The `ColdDrunk` takes a random step in any direction, but the movement is slightly weighted southward."
   ]
  },
  {
   "cell_type": "code",
   "execution_count": 25,
   "metadata": {},
   "outputs": [],
   "source": [
    "class ColdDrunk(Drunk):\n",
    "    def takeStep(self):\n",
    "        stepChoices = [(0.0,0.9), (0.0,-1.1),\n",
    "                       (1.0, 0.0), (-1.0, 0.0)]\n",
    "        return random.choice(stepChoices)"
   ]
  },
  {
   "cell_type": "markdown",
   "metadata": {},
   "source": [
    "## Random Walk Functions"
   ]
  },
  {
   "cell_type": "markdown",
   "metadata": {},
   "source": [
    "The following functions implement our random walk. "
   ]
  },
  {
   "cell_type": "markdown",
   "metadata": {},
   "source": [
    "`walk` saves the starting location of a drunk `d` in a field `f` into variable `start`. \n",
    "The function then iterates through a range the length of `numSteps` and moves the drunk around the field. Finally it returns the distance between `start` to the final distance after walking `numSteps` times."
   ]
  },
  {
   "cell_type": "code",
   "execution_count": 26,
   "metadata": {},
   "outputs": [],
   "source": [
    "def walk(f, d, numSteps):\n",
    "    \"\"\"Assumes: f a Field, d a Drunk in f, and numSteps an int >= 0.\n",
    "       Moves d numSteps times, and returns the distance between\n",
    "       the final location and the location at the start of the \n",
    "       walk.\"\"\"\n",
    "    start = f.getLoc(d)\n",
    "    for s in range(numSteps):\n",
    "        f.moveDrunk(d)\n",
    "    return start.distFrom(f.getLoc(d))"
   ]
  },
  {
   "cell_type": "markdown",
   "metadata": {},
   "source": [
    "This takes in 3 parameters `numSteps`, `numTrials` and `dClass`. It returns a list `distances` that contains `numTrials` number of walks each `numSteps` in length, using drunks of `dClass`."
   ]
  },
  {
   "cell_type": "code",
   "execution_count": 27,
   "metadata": {},
   "outputs": [],
   "source": [
    "def simWalks(numSteps, numTrials, dClass):\n",
    "    \"\"\"Assumes numSteps an int >= 0, numTrials an int > 0,\n",
    "         dClass a subclass of Drunk\n",
    "       Simulates numTrials walks of numSteps steps each.\n",
    "       Returns a list of the final distances for each trial\"\"\"\n",
    "    Homer = dClass()\n",
    "    origin = Location(0, 0)\n",
    "    distances = []\n",
    "    for t in range(numTrials):\n",
    "        f = Field()\n",
    "        f.addDrunk(Homer, origin)\n",
    "        distances.append(round(walk(f, Homer, numSteps), 1))\n",
    "    return distances"
   ]
  },
  {
   "cell_type": "markdown",
   "metadata": {},
   "source": [
    "\n",
    "`drunkTest` takes in 3 parameters: `walkLengths` (a tuple of integers, representing the `numSteps` in a walk), `numTrials` (which is essentially the number of drunks to takes the walk), and `dClass` (the class of drunk to take the walk).\n",
    "\n",
    "The function then prints out stats with various walk lengths after running our random walk simulation code above."
   ]
  },
  {
   "cell_type": "code",
   "execution_count": 34,
   "metadata": {},
   "outputs": [],
   "source": [
    "def drunkTest(walkLengths, numTrials, dClass):\n",
    "    \"\"\"Assumes walkLengths a sequence of ints >= 0\n",
    "         numTrials an int > 0, dClass a subclass of Drunk\n",
    "       For each number of steps in walkLengths, runs simWalks with\n",
    "         numTrials walks and prints results\"\"\"\n",
    "    for numSteps in walkLengths:\n",
    "        distances = simWalks(numSteps, numTrials, dClass)\n",
    "        print(dClass.__name__, 'random walk of', numSteps, 'steps')\n",
    "        print(' Mean =', round(sum(distances)/len(distances), 4))\n",
    "        print(' Max =', max(distances), 'Min =', min(distances))"
   ]
  },
  {
   "cell_type": "markdown",
   "metadata": {},
   "source": [
    "This code calls `drunkTest` with specificed parameters. As noted above, `random.seed(0)` isolates the randomization sequence so results can be validated and debugged."
   ]
  },
  {
   "cell_type": "code",
   "execution_count": 35,
   "metadata": {},
   "outputs": [
    {
     "name": "stdout",
     "output_type": "stream",
     "text": [
      "UsualDrunk random walk of 10 steps\n",
      " Mean = 2.863\n",
      " Max = 7.2 Min = 0.0\n",
      "UsualDrunk random walk of 1000 steps\n",
      " Mean = 26.812\n",
      " Max = 66.3 Min = 4.2\n",
      "UsualDrunk random walk of 1000 steps\n",
      " Mean = 30.873\n",
      " Max = 71.8 Min = 1.4\n",
      "UsualDrunk random walk of 10000 steps\n",
      " Mean = 88.991\n",
      " Max = 226.5 Min = 10.0\n"
     ]
    }
   ],
   "source": [
    "random.seed(0)\n",
    "drunkTest((10, 1000, 1000, 10000), 100, UsualDrunk)"
   ]
  },
  {
   "cell_type": "markdown",
   "metadata": {},
   "source": [
    "`simAll` runs `drunkTest` but lets us run it on multiple kinds of drunks."
   ]
  },
  {
   "cell_type": "code",
   "execution_count": 36,
   "metadata": {},
   "outputs": [],
   "source": [
    "def simAll(drunkKinds, walkLengths, numTrials):\n",
    "    for dClass in drunkKinds:\n",
    "        drunkTest(walkLengths, numTrials, dClass)"
   ]
  },
  {
   "cell_type": "code",
   "execution_count": null,
   "metadata": {},
   "outputs": [],
   "source": []
  },
  {
   "cell_type": "code",
   "execution_count": 37,
   "metadata": {},
   "outputs": [
    {
     "name": "stdout",
     "output_type": "stream",
     "text": [
      "UsualDrunk random walk of 1 steps\n",
      " Mean = 1.0\n",
      " Max = 1.0 Min = 1.0\n",
      "UsualDrunk random walk of 10 steps\n",
      " Mean = 2.948\n",
      " Max = 7.2 Min = 0.0\n",
      "UsualDrunk random walk of 100 steps\n",
      " Mean = 8.453\n",
      " Max = 21.6 Min = 1.4\n",
      "UsualDrunk random walk of 1000 steps\n",
      " Mean = 27.138\n",
      " Max = 72.8 Min = 1.4\n",
      "UsualDrunk random walk of 10000 steps\n",
      " Mean = 90.661\n",
      " Max = 222.9 Min = 5.1\n",
      "ColdDrunk random walk of 1 steps\n",
      " Mean = 0.996\n",
      " Max = 1.1 Min = 0.9\n",
      "ColdDrunk random walk of 10 steps\n",
      " Mean = 2.788\n",
      " Max = 7.1 Min = 0.2\n",
      "ColdDrunk random walk of 100 steps\n",
      " Mean = 9.602\n",
      " Max = 22.9 Min = 0.4\n",
      "ColdDrunk random walk of 1000 steps\n",
      " Mean = 53.525\n",
      " Max = 108.3 Min = 7.3\n",
      "ColdDrunk random walk of 10000 steps\n",
      " Mean = 495.128\n",
      " Max = 654.6 Min = 323.9\n"
     ]
    }
   ],
   "source": [
    "random.seed(0)\n",
    "simAll((UsualDrunk, ColdDrunk),\n",
    "       (1, 10, 100, 1000, 10000), 100)"
   ]
  },
  {
   "cell_type": "code",
   "execution_count": null,
   "metadata": {},
   "outputs": [],
   "source": []
  }
 ],
 "metadata": {
  "kernelspec": {
   "display_name": "Python 3",
   "language": "python",
   "name": "python3"
  },
  "language_info": {
   "codemirror_mode": {
    "name": "ipython",
    "version": 3
   },
   "file_extension": ".py",
   "mimetype": "text/x-python",
   "name": "python",
   "nbconvert_exporter": "python",
   "pygments_lexer": "ipython3",
   "version": "3.8.5"
  }
 },
 "nbformat": 4,
 "nbformat_minor": 4
}
