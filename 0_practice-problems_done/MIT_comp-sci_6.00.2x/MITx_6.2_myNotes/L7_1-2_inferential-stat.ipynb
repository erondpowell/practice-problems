{
 "cells": [
  {
   "cell_type": "markdown",
   "metadata": {},
   "source": [
    "# Inferential Statistics"
   ]
  },
  {
   "cell_type": "markdown",
   "metadata": {},
   "source": []
  },
  {
   "cell_type": "code",
   "execution_count": 38,
   "metadata": {},
   "outputs": [],
   "source": [
    "import random, pylab"
   ]
  },
  {
   "cell_type": "markdown",
   "metadata": {},
   "source": [
    "## Roulette Class"
   ]
  },
  {
   "cell_type": "markdown",
   "metadata": {},
   "source": [
    "Let's go through and make of every attribute and function in this roulette class.\n",
    "\n",
    "- `__init__` has:\n",
    "    - `self.pockets` an instance attribute containing every 'pocket' that would appear in aroulette wheel.\n",
    "    - `self.ball` is set to `None` because the game begins without a ball on the table, it will be assigned a pocket number it lands in.\n",
    "    - `self.blackOdds` and `self.redOdds` are both set to 1.0, aka 100%\n",
    "    - `self.pockectOdds` equals 1 less than length of total number of pockets, becasue the ball will only land in one pocket\n",
    "    \n",
    "- `self.spin` simulates a spin of the roulette wheel.\n",
    "- `isBlack` first checks that the ball is an integer and has indeed been spin. \n",
    "    - the next two if/else statements return `True` if the ball lands on a pocket colored black and `False` if on a red pocket.\n",
    "\n",
    "- `isRed` makes sure the ball has been rolled and negates `isBlack` to find if it is red or not.\n",
    "- `betBlack` takes in an amount of money `amt` and returns money * 1 (the odds of betting black) or else loses the money.\n",
    "- `betRed` does the same.\n",
    "        This is likely written to be inherited/modified on the USA and european roulette tables.\n",
    "- `betPocket` pays out 36x times the `amt`\n",
    "- `__str__` prints out the name of this class, \"Fair Roulette\""
   ]
  },
  {
   "cell_type": "code",
   "execution_count": 7,
   "metadata": {},
   "outputs": [],
   "source": [
    "class FairRoulette():\n",
    "    def __init__(self):\n",
    "        self.pockets = []\n",
    "        for i in range(1,37):\n",
    "            self.pockets.append(i)\n",
    "        self.ball = None\n",
    "        self.blackOdds, self.redOdds = 1.0, 1.0\n",
    "        self.pocketOdds = len(self.pockets) - 1.0\n",
    "    def spin(self):\n",
    "        self.ball = random.choice(self.pockets)\n",
    "    def isBlack(self):\n",
    "        if type(self.ball) != int:\n",
    "            return False\n",
    "        if ((self.ball > 0 and self.ball <= 10)\\\n",
    "            or (self.ball>18 and self.ball<=28)):\n",
    "            return self.ball%2 == 0\n",
    "        else:\n",
    "            return self.ball%2 == 1\n",
    "    def isRed(self):\n",
    "        return type(self.ball) == int and not self.isBlack()\n",
    "    def betBlack(self, amt):\n",
    "        if self.isBlack():\n",
    "            return amt*self.blackOdds\n",
    "        else: return -amt\n",
    "    def betRed(self, amt):\n",
    "        if self.isRed():\n",
    "            return amt*self.redOdds\n",
    "        else: return -amt*self.redOdds\n",
    "    def betPocket(self, pocket, amt):\n",
    "        if str(pocket) == str(self.ball):\n",
    "            return amt*self.pocketOdds\n",
    "        else: return -amt\n",
    "    def __str__(self):\n",
    "        return 'Fair Roulette'\n"
   ]
  },
  {
   "cell_type": "markdown",
   "metadata": {},
   "source": [
    "#  playRoulette Function"
   ]
  },
  {
   "cell_type": "markdown",
   "metadata": {},
   "source": [
    "This function simulates any class type of roulette, for a given number of spins, and a bet size of 1. It prints out the expected treturn if the user bet red, black , or lucky number."
   ]
  },
  {
   "cell_type": "code",
   "execution_count": null,
   "metadata": {},
   "outputs": [],
   "source": [
    "def playRoulette(game, numSpins, toPrint = True):\n",
    "    luckyNumber = '2'\n",
    "    bet = 1\n",
    "    totRed, totBlack, totPocket = 0.0, 0.0, 0.0\n",
    "    for i in range(numSpins):\n",
    "        game.spin()\n",
    "        totRed += game.betRed(bet)\n",
    "        totBlack += game.betBlack(bet)\n",
    "        totPocket += game.betPocket(luckyNumber, bet)\n",
    "    if toPrint:\n",
    "        print(numSpins, 'spins of', game)\n",
    "        print('Expected return betting red =',\n",
    "              str(100*totRed/numSpins) + '%')\n",
    "        print('Expected return betting black =', \n",
    "              str(100*totBlack/numSpins) + '%')\n",
    "        print('Expected return betting', luckyNumber, '=',\\\n",
    "              str(100*totPocket/numSpins) + '%\\n')\n",
    "    return (totRed/numSpins, totBlack/numSpins, totPocket/numSpins)"
   ]
  },
  {
   "cell_type": "markdown",
   "metadata": {},
   "source": [
    "This runs the `playRoulette` function 1,000,000 times. As you can see, the odds of getting red or black are near zero. In this case, the actual odds are converging towards zero. But what about betting a lucky number? Since there are 37 slots, it would converge closer and closer to (1/37) which is roughly ~ 2.7027%"
   ]
  },
  {
   "cell_type": "code",
   "execution_count": 54,
   "metadata": {},
   "outputs": [
    {
     "name": "stdout",
     "output_type": "stream",
     "text": [
      "1000000 spins of Fair Roulette\n",
      "Expected return betting red = 0.0076%\n",
      "Expected return betting black = -0.0076%\n",
      "Expected return betting 2 = -0.0172%\n",
      "\n"
     ]
    },
    {
     "data": {
      "text/plain": [
       "(7.6e-05, -7.6e-05, -0.000172)"
      ]
     },
     "execution_count": 54,
     "metadata": {},
     "output_type": "execute_result"
    }
   ],
   "source": [
    "numSpins = 1000000\n",
    "game = FairRoulette()\n",
    "playRoulette(game, numSpins)"
   ]
  },
  {
   "cell_type": "markdown",
   "metadata": {},
   "source": [
    "## Roulette Subclasses"
   ]
  },
  {
   "cell_type": "markdown",
   "metadata": {},
   "source": [
    "European Roulette has an additional pocket that is neither balck nor red. When players land on this the money goes to the house."
   ]
  },
  {
   "cell_type": "code",
   "execution_count": 52,
   "metadata": {},
   "outputs": [],
   "source": [
    "class EuRoulette(FairRoulette):\n",
    "    def __init__(self):\n",
    "        FairRoulette.__init__(self)\n",
    "        self.pockets.append('0')\n",
    "    def __str__(self):\n",
    "        return 'European Roulette'"
   ]
  },
  {
   "cell_type": "markdown",
   "metadata": {},
   "source": [
    "Similar to European Rulette, American roulette as two 'house pockets'. \n",
    "\n",
    "But I'm not sure how this code works down below."
   ]
  },
  {
   "cell_type": "code",
   "execution_count": 51,
   "metadata": {},
   "outputs": [],
   "source": [
    "class AmRoulette(EuRoulette):\n",
    "    def __init__(self):\n",
    "        EuRoulette.__init__(self)\n",
    "        self.pockets.append('00')\n",
    "    def __str__(self):\n",
    "        return 'American Roulette'"
   ]
  },
  {
   "cell_type": "markdown",
   "metadata": {},
   "source": [
    "`findPocketReturn` returns a list of the % chance of getting a pocket for some `numTrials` (number of times to run `playRoulette` func) each with a given `trialSize` (aka number of spins.. aka `numSpins`)."
   ]
  },
  {
   "cell_type": "code",
   "execution_count": 50,
   "metadata": {},
   "outputs": [],
   "source": [
    "def findPocketReturn(game, numTrials, trialSize, toPrint):\n",
    "    pocketReturns = []\n",
    "    for t in range(numTrials):\n",
    "        trialVals = playRoulette(game, trialSize, toPrint)\n",
    "        pocketReturns.append(trialVals[2])\n",
    "    return pocketReturns"
   ]
  },
  {
   "cell_type": "markdown",
   "metadata": {},
   "source": [
    "The following code runs 3 types of roulette games, with 4 different numbers of spins, then prints the expected returns for betting on a pocket.\n",
    "\n",
    "By the way, `resultDict` is not used in this block of code."
   ]
  },
  {
   "cell_type": "code",
   "execution_count": 49,
   "metadata": {},
   "outputs": [
    {
     "name": "stdout",
     "output_type": "stream",
     "text": [
      "\n",
      "Simulate betting a pocket for 20 trials of 100 spins each\n",
      "Exp. return for Fair Roulette = 6.199999999999998%\n",
      "Exp. return for European Roulette = -8.200000000000001%\n",
      "Exp. return for American Roulette = 2.599999999999998%\n",
      "\n",
      "Simulate betting a pocket for 20 trials of 1000 spins each\n",
      "Exp. return for Fair Roulette = 4.760000000000002%\n",
      "Exp. return for European Roulette = -2.4399999999999995%\n",
      "Exp. return for American Roulette = -9.46%\n",
      "\n",
      "Simulate betting a pocket for 20 trials of 10000 spins each\n",
      "Exp. return for Fair Roulette = -1.3060000000000003%\n",
      "Exp. return for European Roulette = -4.095999999999999%\n",
      "Exp. return for American Roulette = -5.698000000000001%\n",
      "\n",
      "Simulate betting a pocket for 20 trials of 100000 spins each\n",
      "Exp. return for Fair Roulette = 0.7982%\n",
      "Exp. return for European Roulette = -2.5876000000000006%\n",
      "Exp. return for American Roulette = -5.134600000000001%\n"
     ]
    }
   ],
   "source": [
    "random.seed(0)\n",
    "numTrials = 20\n",
    "resultDict = {}\n",
    "games = (FairRoulette, EuRoulette, AmRoulette)\n",
    "for G in games:\n",
    "    resultDict[G().__str__()] = []\n",
    "for numSpins in (100, 1000, 10000, 100000):\n",
    "    print('\\nSimulate betting a pocket for', numTrials, 'trials of', numSpins, 'spins each')\n",
    "    for G in games:\n",
    "        pocketReturns = findPocketReturn(G(), numTrials, numSpins, False)\n",
    "        print('Exp. return for', G(), '=', str(100*sum(pocketReturns)/float(len(pocketReturns))) + '%')"
   ]
  },
  {
   "cell_type": "markdown",
   "metadata": {},
   "source": [
    "### Get Standard Deviation"
   ]
  },
  {
   "cell_type": "markdown",
   "metadata": {},
   "source": [
    "This iterates through `X`, some iterable and get the mean of all items `x` in `X` then finds standard deviation."
   ]
  },
  {
   "cell_type": "code",
   "execution_count": 34,
   "metadata": {},
   "outputs": [],
   "source": [
    "def getMeanAndStd(X):\n",
    "    mean = sum(X)/float(len(X))\n",
    "    tot = 0.0\n",
    "    for x in X:\n",
    "        tot += (x - mean)**2\n",
    "    std = (tot/len(X))**0.5\n",
    "    return mean, std"
   ]
  },
  {
   "cell_type": "markdown",
   "metadata": {},
   "source": [
    "The following code returns the average % payout for various roulette wheels, betting 20, with various trial numbers of `numSpins` spins, then prints the % returns.\n",
    "\n",
    "It's still not clear how `resultDict` is being used, but this time, the `numSpins`, mean and std deviation get appended to each game in the dict."
   ]
  },
  {
   "cell_type": "code",
   "execution_count": 65,
   "metadata": {},
   "outputs": [
    {
     "name": "stdout",
     "output_type": "stream",
     "text": [
      "\n",
      "Simulate betting a pocket for 20 trials of 100 spins each\n",
      "Exp. return for Fair Roulette = 6.2%, +/- 152.114% with 95% confidence\n",
      "Exp. return for European Roulette = -8.2%, +/- 90.567% with 95% confidence\n",
      "Exp. return for American Roulette = 2.6%, +/- 92.74% with 95% confidence\n",
      "\n",
      "Simulate betting a pocket for 20 trials of 1000 spins each\n",
      "Exp. return for Fair Roulette = 4.76%, +/- 39.658% with 95% confidence\n",
      "Exp. return for European Roulette = -2.44%, +/- 31.31% with 95% confidence\n",
      "Exp. return for American Roulette = -9.46%, +/- 36.273% with 95% confidence\n",
      "\n",
      "Simulate betting a pocket for 20 trials of 10000 spins each\n",
      "Exp. return for Fair Roulette = -1.306%, +/- 9.295% with 95% confidence\n",
      "Exp. return for European Roulette = -4.096%, +/- 10.902% with 95% confidence\n",
      "Exp. return for American Roulette = -5.698%, +/- 11.077% with 95% confidence\n"
     ]
    }
   ],
   "source": [
    "random.seed(0)\n",
    "numTrials = 20\n",
    "resultDict = {}\n",
    "games = (FairRoulette, EuRoulette, AmRoulette)\n",
    "for G in games:\n",
    "    resultDict[G().__str__()] = []\n",
    "for numSpins in (100, 1000, 10000):\n",
    "    print('\\nSimulate betting a pocket for', numTrials,\n",
    "          'trials of', numSpins, 'spins each')\n",
    "    for G in games:\n",
    "        pocketReturns = findPocketReturn(G(), 20, numSpins, False)\n",
    "        mean, std = getMeanAndStd(pocketReturns)\n",
    "        resultDict[G().__str__()].append((numSpins, 100*mean, 100*std))\n",
    "        print('Exp. return for', G(), '=', str(round(100*mean, 3))\n",
    "              + '%,', '+/- ' + str(round(100*1.96*std, 3))\n",
    "              + '% with 95% confidence')"
   ]
  },
  {
   "cell_type": "markdown",
   "metadata": {},
   "source": [
    "the following function let's us squirt out a graph based on the dictionary results. It iterates through `resultDict` pulling out every key, then runs a for look on each key, to access the list of values.\n",
    "\n",
    "For each tuple (aka trial) in `resultDict` it binds the values of:\n",
    "- `numSpins` to `xVals`\n",
    "- `mean` to `yVal`\n",
    "- `std` to `eVals`\n",
    "\n",
    "then formats and plots the results with pylab."
   ]
  },
  {
   "cell_type": "code",
   "execution_count": 64,
   "metadata": {},
   "outputs": [],
   "source": [
    "def plotReturn(resultDict):\n",
    "    for k in resultDict:\n",
    "        xVals, yVals, eVals = [], [], []\n",
    "        for trial in resultDict[k]:\n",
    "            xVals.append(trial[0])\n",
    "            yVals.append(trial[1])\n",
    "            eVals.append(trial[2])\n",
    "        pylab.errorbar(xVals, yVals, yerr = eVals, label = k, marker = 'o')\n",
    "    pylab.legend()\n",
    "    pylab.xlabel('Spins per trial', fontsize = 'x-large')\n",
    "    pylab.ylabel('Expected percentage return', fontsize = 'x-large')\n",
    "    pylab.title('Expected Return Betting a Pocket', fontsize = 'x-large')\n",
    "    pylab.semilogx()\n",
    "    minX, maxX = pylab.xlim()\n",
    "    pylab.xlim(1, maxX + 100000)"
   ]
  },
  {
   "cell_type": "code",
   "execution_count": 62,
   "metadata": {},
   "outputs": [
    {
     "data": {
      "image/png": "[encoded data removed]",
      "text/plain": [
       "<Figure size 432x288 with 1 Axes>"
      ]
     },
     "metadata": {
      "needs_background": "light"
     },
     "output_type": "display_data"
    }
   ],
   "source": [
    "plotReturn(resultDict)\n",
    "#assert False"
   ]
  },
  {
   "cell_type": "markdown",
   "metadata": {},
   "source": [
    "`plotMeans` creates and empty list, `means` and iterates through range the size of the rounded-down integer value of `numRolls` / `numDice`\n",
    "\n",
    "the next for loops rolls the dice and tallies the face values into `vals`\n",
    "A histogram is then generated with pylab showing `means` as the x value and `numBins` as the Y value.\n",
    "\n",
    "Finally the mean and standard deviation of all the means gets returned."
   ]
  },
  {
   "cell_type": "code",
   "execution_count": 68,
   "metadata": {},
   "outputs": [],
   "source": [
    "def plotMeans(numDice, numRolls, numBins, legend, color, style):\n",
    "    means = []\n",
    "    for i in range(numRolls//numDice):\n",
    "        vals = 0\n",
    "        for j in range(numDice):\n",
    "            vals += 5*random.random() \n",
    "        means.append(vals/float(numDice))\n",
    "    pylab.hist(means, numBins, color = color, label = legend,\n",
    "               weights = pylab.array(len(means)*[1.0])/len(means),\n",
    "               hatch = style)\n",
    "    return getMeanAndStd(means)"
   ]
  },
  {
   "cell_type": "code",
   "execution_count": null,
   "metadata": {},
   "outputs": [],
   "source": []
  },
  {
   "cell_type": "code",
   "execution_count": 69,
   "metadata": {},
   "outputs": [
    {
     "name": "stdout",
     "output_type": "stream",
     "text": [
      "Mean of rolling 1 die = 2.5034358148091855 Std = 1.442431731346342\n",
      "Mean of rolling 50 dice = 2.495727482133078 Std = 0.19971726578732749\n"
     ]
    },
    {
     "data": {
      "text/plain": [
       "<matplotlib.legend.Legend at 0x7fa5e1812be0>"
      ]
     },
     "execution_count": 69,
     "metadata": {},
     "output_type": "execute_result"
    },
    {
     "data": {
      "image/png": "[encoded data removed]",
      "text/plain": [
       "<Figure size 432x288 with 1 Axes>"
      ]
     },
     "metadata": {
      "needs_background": "light"
     },
     "output_type": "display_data"
    }
   ],
   "source": [
    "mean, std = plotMeans(1, 100000, 11, '1 die', 'b', '*')\n",
    "print('Mean of rolling 1 die =', mean, 'Std =', std)\n",
    "mean, std = plotMeans(50, 100000, 11, 'Mean of 50 dice', 'r', '//')\n",
    "print('Mean of rolling 50 dice =', mean, 'Std =', std)\n",
    "pylab.title('Rolling Continuous Dice')\n",
    "pylab.xlabel('Value')\n",
    "pylab.ylabel('Probability')\n",
    "pylab.legend()"
   ]
  },
  {
   "cell_type": "markdown",
   "metadata": {},
   "source": [
    "`leaveAhead` simulates gambling with a set amount of money, betting all black or red every time."
   ]
  },
  {
   "cell_type": "code",
   "execution_count": 71,
   "metadata": {},
   "outputs": [],
   "source": [
    "def leaveAhead(game, stake, bet, numTrials):\n",
    "    numAhead = 0.0\n",
    "    for t in range(numTrials):\n",
    "        bankRoll = stake\n",
    "        curBet = bet\n",
    "        while bankRoll > 0 and bankRoll <= 2*stake:\n",
    "            game.spin()\n",
    "            outcome = game.betBlack(curBet)\n",
    "            bankRoll += outcome\n",
    "            if outcome < 0:\n",
    "                curBet = min(2*curBet, bankRoll)\n",
    "            #print curBet, bankRoll\n",
    "        if bankRoll > stake:\n",
    "            numAhead += 1\n",
    "    return numAhead/numTrials"
   ]
  },
  {
   "cell_type": "markdown",
   "metadata": {},
   "source": [
    "`stake` does not get used??\n",
    "`bet` is the size of a given bet.\n",
    "`numTrials` was explained above.\n",
    "\n",
    "The for loop:\n",
    "- appends the exponential values of 10 to `stakes`\n",
    "- `successProb` is a list of the 'ratio of trials where bakroll exceeded stake divided by total trials'.\n",
    "\n",
    "These get plotted as the x and y axis."
   ]
  },
  {
   "cell_type": "code",
   "execution_count": 81,
   "metadata": {},
   "outputs": [
    {
     "data": {
      "image/png": "[encoded data removed]",
      "text/plain": [
       "<Figure size 432x288 with 1 Axes>"
      ]
     },
     "metadata": {
      "needs_background": "light"
     },
     "output_type": "display_data"
    }
   ],
   "source": [
    "stake = 1\n",
    "bet = 1\n",
    "numTrials = 1000\n",
    "successProb, stakes = [], []\n",
    "for i in range(10):\n",
    "    stakes.append(10**i)\n",
    "    successProb.append(leaveAhead(AmRoulette(), 10**i, bet, numTrials))\n",
    "pylab.plot(stakes, successProb)\n",
    "pylab.xlabel('Bankroll')\n",
    "pylab.ylabel('Probability of Winning')\n",
    "pylab.semilogx()\n",
    "pylab.show()"
   ]
  },
  {
   "cell_type": "code",
   "execution_count": null,
   "metadata": {},
   "outputs": [],
   "source": []
  }
 ],
 "metadata": {
  "kernelspec": {
   "display_name": "Python 3",
   "language": "python",
   "name": "python3"
  },
  "language_info": {
   "codemirror_mode": {
    "name": "ipython",
    "version": 3
   },
   "file_extension": ".py",
   "mimetype": "text/x-python",
   "name": "python",
   "nbconvert_exporter": "python",
   "pygments_lexer": "ipython3",
   "version": "3.8.5"
  }
 },
 "nbformat": 4,
 "nbformat_minor": 4
}
