{
 "cells": [
  {
   "cell_type": "code",
   "execution_count": 1,
   "metadata": {},
   "outputs": [],
   "source": [
    "import random, pylab"
   ]
  },
  {
   "cell_type": "code",
   "execution_count": 2,
   "metadata": {},
   "outputs": [],
   "source": [
    "#set line width\n",
    "pylab.rcParams['lines.linewidth'] = 4\n",
    "#set font size for titles \n",
    "pylab.rcParams['axes.titlesize'] = 20\n",
    "#set font size for labels on axes\n",
    "pylab.rcParams['axes.labelsize'] = 20\n",
    "#set size of numbers on x-axis\n",
    "pylab.rcParams['xtick.labelsize'] = 16\n",
    "#set size of numbers on y-axis\n",
    "pylab.rcParams['ytick.labelsize'] = 16\n",
    "#set size of ticks on x-axis\n",
    "pylab.rcParams['xtick.major.size'] = 7\n",
    "#set size of ticks on y-axis\n",
    "pylab.rcParams['ytick.major.size'] = 7\n",
    "#set size of markers, e.g., circles representing points\n",
    "#set numpoints for legend\n",
    "pylab.rcParams['legend.numpoints'] = 1"
   ]
  },
  {
   "cell_type": "code",
   "execution_count": 4,
   "metadata": {},
   "outputs": [],
   "source": [
    "def getMeanAndStd(X):\n",
    "    mean = sum(X)/float(len(X))\n",
    "    tot = 0.0\n",
    "    for x in X:\n",
    "        tot += (x - mean)**2\n",
    "    std = (tot/len(X))**0.5\n",
    "    return mean, std"
   ]
  },
  {
   "cell_type": "code",
   "execution_count": null,
   "metadata": {},
   "outputs": [],
   "source": []
  },
  {
   "cell_type": "code",
   "execution_count": 31,
   "metadata": {},
   "outputs": [
    {
     "name": "stdout",
     "output_type": "stream",
     "text": [
      "factor: [0.2 0.2 0.2 0.2 0.2]\n"
     ]
    },
    {
     "data": {
      "text/plain": [
       "(array([0.8, 0. , 0. , 0. , 0. , 0. , 0. , 0. , 0. , 0.2]),\n",
       " array([1. , 1.1, 1.2, 1.3, 1.4, 1.5, 1.6, 1.7, 1.8, 1.9, 2. ]),\n",
       " <BarContainer object of 10 artists>)"
      ]
     },
     "execution_count": 31,
     "metadata": {},
     "output_type": "execute_result"
    },
    {
     "data": {
      "image/png": "[encoded data removed]",
      "text/plain": [
       "<Figure size 432x288 with 1 Axes>"
      ]
     },
     "metadata": {
      "needs_background": "light"
     },
     "output_type": "display_data"
    },
    {
     "data": {
      "image/png": "[encoded data removed]",
      "text/plain": [
       "<Figure size 432x288 with 1 Axes>"
      ]
     },
     "metadata": {
      "needs_background": "light"
     },
     "output_type": "display_data"
    }
   ],
   "source": [
    "L = [1,1,1,1,2]\n",
    "pylab.hist(L)\n",
    "factor = pylab.array(len(L)*[1])/len(L)\n",
    "print('factor:', factor)\n",
    "pylab.figure()\n",
    "pylab.hist(L, weights = factor)"
   ]
  },
  {
   "cell_type": "markdown",
   "metadata": {},
   "source": [
    "`plotMeans`returns the means and standard deviations on a list of means of `numRolls` of dice rolls using `numDice`.\n",
    "- the first for loop iterates through a range of dice rolls with a length 'numRolls` / `numDice`. So apparently, each die is rolled individually. \n",
    "    - Dice values `vals` are set to zero.\n",
    "    - Then for each die:\n",
    "        - the value is added to vals using `5*random.random()`\n",
    "    - `vals` get divided by `numDice` to get the average die value. This gets appended to `mean`.\n",
    "    - After both for loops, pylab.hist() plots out a histogram of the dice rolls.\n",
    "    - Finally the mean and stadard deviation are returned"
   ]
  },
  {
   "cell_type": "code",
   "execution_count": 32,
   "metadata": {},
   "outputs": [],
   "source": [
    "def plotMeans(numDice, numRolls, numBins, legend, color, style):\n",
    "    means = []\n",
    "    for i in range(numRolls//numDice):\n",
    "        vals = 0\n",
    "        for j in range(numDice):\n",
    "            vals += 5*random.random() \n",
    "        means.append(vals/float(numDice))\n",
    "    pylab.hist(means, numBins, color = color, label = legend,\n",
    "               weights = pylab.array(len(means)*[1])/len(means),\n",
    "               hatch = style)\n",
    "    return getMeanAndStd(means)"
   ]
  },
  {
   "cell_type": "markdown",
   "metadata": {},
   "source": [
    "The following code runs `plotMeans()`, unacks the returned values into `mean` and `std` and prints the histogram.\n",
    "The following line prints out the mean and std deviation into a sentence.\n",
    "The last 4 lines of codedress up the pylab histogram with title, labels and legend. "
   ]
  },
  {
   "cell_type": "code",
   "execution_count": 19,
   "metadata": {},
   "outputs": [
    {
     "name": "stdout",
     "output_type": "stream",
     "text": [
      "Mean of rolling 1 die = 2.5003074964239196, Std = 1.444484758417523\n",
      "Mean of rolling 50 dice = 2.503887874861843, Std = 0.20467715510861986\n"
     ]
    },
    {
     "data": {
      "text/plain": [
       "<matplotlib.legend.Legend at 0x7fe4f2f4cf70>"
      ]
     },
     "execution_count": 19,
     "metadata": {},
     "output_type": "execute_result"
    },
    {
     "data": {
      "image/png": "[encoded data removed]",
      "text/plain": [
       "<Figure size 432x288 with 1 Axes>"
      ]
     },
     "metadata": {
      "needs_background": "light"
     },
     "output_type": "display_data"
    }
   ],
   "source": [
    "mean, std = plotMeans(1, 1000000, 19, '1 die', 'b', '*')\n",
    "print('Mean of rolling 1 die =', str(mean) + ',', 'Std =', std)\n",
    "mean, std = plotMeans(50, 1000000, 19, 'Mean of 50 dice', 'r', '//')\n",
    "print('Mean of rolling 50 dice =', str(mean) + ',', 'Std =', std)\n",
    "pylab.title('Rolling Continuous Dice')\n",
    "pylab.xlabel('Value')\n",
    "pylab.ylabel('Probability')\n",
    "pylab.legend()"
   ]
  },
  {
   "cell_type": "code",
   "execution_count": null,
   "metadata": {},
   "outputs": [],
   "source": []
  },
  {
   "cell_type": "code",
   "execution_count": 8,
   "metadata": {},
   "outputs": [],
   "source": [
    "class FairRoulette():\n",
    "    def __init__(self):\n",
    "        self.pockets = []\n",
    "        for i in range(1,37):\n",
    "            self.pockets.append(i)\n",
    "        self.ball = None\n",
    "        self.blackOdds, self.redOdds = 1.0, 1.0\n",
    "        self.pocketOdds = len(self.pockets) - 1.0\n",
    "    def spin(self):\n",
    "        self.ball = random.choice(self.pockets)\n",
    "    def isBlack(self):\n",
    "        if type(self.ball) != int:\n",
    "            return False\n",
    "        if ((self.ball > 0 and self.ball <= 10)\\\n",
    "            or (self.ball>18 and self.ball<=28)):\n",
    "            return self.ball%2 == 0\n",
    "        else:\n",
    "            return self.ball%2 == 1\n",
    "    def isRed(self):\n",
    "        return type(self.ball) == int and not self.isBlack()\n",
    "    def betBlack(self, amt):\n",
    "        if self.isBlack():\n",
    "            return amt*self.blackOdds\n",
    "        else: return -amt\n",
    "    def betRed(self, amt):\n",
    "        if self.isRed():\n",
    "            return amt*self.redOdds\n",
    "        else: return -amt*self.redOdds\n",
    "    def betPocket(self, pocket, amt):\n",
    "        if str(pocket) == str(self.ball):\n",
    "            return amt*self.pocketOdds\n",
    "        else: return -amt\n",
    "    def __str__(self):\n",
    "        return 'Fair Roulette'"
   ]
  },
  {
   "cell_type": "code",
   "execution_count": 9,
   "metadata": {},
   "outputs": [],
   "source": [
    "def playRoulette(game, numSpins, toPrint = True):\n",
    "    luckyNumber = '2'\n",
    "    bet = 1\n",
    "    totRed, totBlack, totPocket = 0.0, 0.0, 0.0\n",
    "    for i in range(numSpins):\n",
    "        game.spin()\n",
    "        totRed += game.betRed(bet)\n",
    "        totBlack += game.betBlack(bet)\n",
    "        totPocket += game.betPocket(luckyNumber, bet)\n",
    "    if toPrint:\n",
    "        print(numSpins, 'spins of', game)\n",
    "        print('Expected return betting red =',\n",
    "              str(100*totRed/numSpins) + '%')\n",
    "        print('Expected return betting black =', \n",
    "              str(100*totBlack/numSpins) + '%')\n",
    "        print('Expected return betting', luckyNumber, '=',\\\n",
    "              str(100*totPocket/numSpins) + '%\\n')\n",
    "    return (totRed/numSpins, totBlack/numSpins, totPocket/numSpins)\n",
    "\n"
   ]
  },
  {
   "cell_type": "code",
   "execution_count": 11,
   "metadata": {},
   "outputs": [],
   "source": [
    "class EuRoulette(FairRoulette):\n",
    "    def __init__(self):\n",
    "        FairRoulette.__init__(self)\n",
    "        self.pockets.append('0')\n",
    "    def __str__(self):\n",
    "        return 'European Roulette'\n",
    "\n",
    "class AmRoulette(EuRoulette):\n",
    "    def __init__(self):\n",
    "        EuRoulette.__init__(self)\n",
    "        self.pockets.append('00')\n",
    "    def __str__(self):\n",
    "        return 'American Roulette'"
   ]
  },
  {
   "cell_type": "code",
   "execution_count": 12,
   "metadata": {},
   "outputs": [],
   "source": [
    "def findPocketReturn(game, numTrials, trialSize, toPrint = False):\n",
    "    pocketReturns = []\n",
    "    for t in range(numTrials):\n",
    "        trialVals = playRoulette(game, trialSize, toPrint)\n",
    "        pocketReturns.append(trialVals[2])\n",
    "    return pocketReturns"
   ]
  },
  {
   "cell_type": "code",
   "execution_count": null,
   "metadata": {},
   "outputs": [],
   "source": [
    "#\n",
    "#random.seed(0)\n",
    "#numTrials = 50000\n",
    "#numSpins = 200\n",
    "#game = FairRoulette()\n",
    "#\n",
    "#means = []\n",
    "#for i in range(numTrials):\n",
    "#    means.append(findPocketReturn(game, 1, numSpins)[0]/numSpins)\n",
    "#\n",
    "#pylab.hist(means, bins = 19,\n",
    "#           weights = pylab.array(len(means)*[1])/len(means))\n",
    "#pylab.xlabel('Mean Return')\n",
    "#pylab.ylabel('Probability')\n",
    "#pylab.title('Expected Return Betting a Pocket')"
   ]
  }
 ],
 "metadata": {
  "kernelspec": {
   "display_name": "Python 3",
   "language": "python",
   "name": "python3"
  },
  "language_info": {
   "codemirror_mode": {
    "name": "ipython",
    "version": 3
   },
   "file_extension": ".py",
   "mimetype": "text/x-python",
   "name": "python",
   "nbconvert_exporter": "python",
   "pygments_lexer": "ipython3",
   "version": "3.8.5"
  }
 },
 "nbformat": 4,
 "nbformat_minor": 4
}
