{
 "cells": [
  {
   "cell_type": "markdown",
   "metadata": {},
   "source": [
    "Back in the day, a lot of people tried to guess the value of pi. But they couldn't do it because it's really hard.\n",
    "\n",
    "Finally, some french guys tried throwing needles and a circle and a square and getting the ratio of needles that landed in the circle and the ratio that landed in the square. Which is pretty much bascially a Monte Carlo Simulation. Let's recreate that asap."
   ]
  },
  {
   "cell_type": "code",
   "execution_count": null,
   "metadata": {},
   "outputs": [],
   "source": [
    "import pylab"
   ]
  },
  {
   "cell_type": "markdown",
   "metadata": {},
   "source": [
    "But actually, first let's format the pylab graph."
   ]
  },
  {
   "cell_type": "code",
   "execution_count": null,
   "metadata": {},
   "outputs": [],
   "source": [
    "#set line width\n",
    "pylab.rcParams['lines.linewidth'] = 4\n",
    "#set font size for titles \n",
    "pylab.rcParams['axes.titlesize'] = 20\n",
    "#set font size for labels on axes\n",
    "pylab.rcParams['axes.labelsize'] = 20\n",
    "#set size of numbers on x-axis\n",
    "pylab.rcParams['xtick.labelsize'] = 16\n",
    "#set size of numbers on y-axis\n",
    "pylab.rcParams['ytick.labelsize'] = 16\n",
    "#set size of ticks on x-axis\n",
    "pylab.rcParams['xtick.major.size'] = 7\n",
    "#set size of ticks on y-axis\n",
    "pylab.rcParams['ytick.major.size'] = 7\n",
    "#set size of markers, e.g., circles representing points\n",
    "pylab.rcParams['lines.markersize'] = 10\n",
    "#set number of times marker is shown when displaying legend\n",
    "pylab.rcParams['legend.numpoints'] = 1"
   ]
  },
  {
   "cell_type": "markdown",
   "metadata": {},
   "source": [
    "Aight, let's hit it. Import modules."
   ]
  },
  {
   "cell_type": "code",
   "execution_count": 14,
   "metadata": {},
   "outputs": [],
   "source": [
    "import random, numpy, math"
   ]
  },
  {
   "cell_type": "markdown",
   "metadata": {},
   "source": [
    "### throwNeedles"
   ]
  },
  {
   "cell_type": "markdown",
   "metadata": {},
   "source": [
    "throwNeedles takes in a number of needles `numNeedels`, simulates throwing them at a circle with a radius of 1 and counts the needles that land in the circle bounds.\n",
    "\n",
    "For each needle, a random value between 0 and 1 are assigned to `x` and `y`.\n",
    "The if statement uses the pythagorean theorem to check if the needles land in the circle.\n",
    "the returned ratio is multiplied by four, because the above simulation only threw needles at the first quadrant."
   ]
  },
  {
   "cell_type": "code",
   "execution_count": 15,
   "metadata": {},
   "outputs": [],
   "source": [
    "def throwNeedles(numNeedles):\n",
    "    inCircle = 0\n",
    "    for Needles in range(1, numNeedles + 1, 1):\n",
    "        x = random.random()\n",
    "        y = random.random()\n",
    "        if (x*x + y*y)**0.5 <= 1.0:\n",
    "            inCircle += 1\n",
    "    return 4*(inCircle/float(numNeedles))"
   ]
  },
  {
   "cell_type": "markdown",
   "metadata": {},
   "source": [
    "### getEst"
   ]
  },
  {
   "cell_type": "markdown",
   "metadata": {},
   "source": [
    "`getEst` runs `throwNeedles` for a number `numTrials` times. Each rariud approximation is appneded to `estimates`.\n",
    "Looks like standard deviation doesn't even need to be hand calculated. You can just use numpy on an iterable.\n",
    "The mean estimate is bound to`curEst`. The mean, std deviation and total number of needels are printed out. `curEst` and`sDev` are returned as a tuple."
   ]
  },
  {
   "cell_type": "code",
   "execution_count": 16,
   "metadata": {},
   "outputs": [],
   "source": [
    "def getEst(numNeedles, numTrials):\n",
    "    estimates = []\n",
    "    for t in range(numTrials):\n",
    "        piGuess = throwNeedles(numNeedles)\n",
    "        estimates.append(piGuess)\n",
    "    sDev = numpy.std(estimates)\n",
    "    curEst = sum(estimates)/len(estimates)\n",
    "    print('Est. = ' + str(curEst) +\\\n",
    "          ', Std. dev. = ' + str(round(sDev, 6))\\\n",
    "          + ', Needles = ' + str(numNeedles))\n",
    "    return (curEst, sDev)"
   ]
  },
  {
   "cell_type": "markdown",
   "metadata": {},
   "source": [
    "### estPi"
   ]
  },
  {
   "cell_type": "markdown",
   "metadata": {},
   "source": [
    "`estimatePi` takes in `precision`, which is a degree of precision which must be met and `numtrials`.\n",
    "\n",
    "`numNeedles` is set within the function. `sDev` is set to equal precision.\n",
    "\n",
    "The while loop runs `getEst` and increases the needles count quadratically, until there are enough needles thrown in a single trial that the standard deviation is less than precision divided by 1.96...\n",
    "\n",
    "Sadly, I forgot stat so hard idk what this means."
   ]
  },
  {
   "cell_type": "code",
   "execution_count": 17,
   "metadata": {},
   "outputs": [],
   "source": [
    "def estPi(precision, numTrials):\n",
    "    numNeedles = 1000\n",
    "    sDev = precision\n",
    "    while sDev >= precision/1.96:\n",
    "        curEst, sDev = getEst(numNeedles, numTrials)\n",
    "        numNeedles *= 2\n",
    "    return curEst"
   ]
  },
  {
   "cell_type": "markdown",
   "metadata": {},
   "source": [
    "### call `EstPi()`"
   ]
  },
  {
   "cell_type": "code",
   "execution_count": 18,
   "metadata": {},
   "outputs": [
    {
     "name": "stdout",
     "output_type": "stream",
     "text": [
      "Est. = 3.1484400000000012, Std. dev. = 0.047886, Needles = 1000\n",
      "Est. = 3.1391799999999987, Std. dev. = 0.035495, Needles = 2000\n",
      "Est. = 3.1410799999999997, Std. dev. = 0.02713, Needles = 4000\n",
      "Est. = 3.141435, Std. dev. = 0.016805, Needles = 8000\n",
      "Est. = 3.141355, Std. dev. = 0.0137, Needles = 16000\n",
      "Est. = 3.1413137500000006, Std. dev. = 0.008476, Needles = 32000\n",
      "Est. = 3.141171874999999, Std. dev. = 0.007028, Needles = 64000\n",
      "Est. = 3.1415896874999993, Std. dev. = 0.004035, Needles = 128000\n",
      "Est. = 3.1417414062499995, Std. dev. = 0.003536, Needles = 256000\n",
      "Est. = 3.14155671875, Std. dev. = 0.002101, Needles = 512000\n"
     ]
    },
    {
     "data": {
      "text/plain": [
       "3.14155671875"
      ]
     },
     "execution_count": 18,
     "metadata": {},
     "output_type": "execute_result"
    }
   ],
   "source": [
    "random.seed(0)\n",
    "estPi(0.005, 100)"
   ]
  },
  {
   "cell_type": "markdown",
   "metadata": {},
   "source": [
    "### integrate"
   ]
  },
  {
   "cell_type": "markdown",
   "metadata": {},
   "source": [
    "idk about integrals, no need to dick with this too hard."
   ]
  },
  {
   "cell_type": "code",
   "execution_count": 19,
   "metadata": {},
   "outputs": [],
   "source": [
    "def integrate(f, a, b, step):\n",
    "    yVals, xVals = [], []\n",
    "    xVal = a\n",
    "    while xVal <= b:\n",
    "        xVals.append(xVal)\n",
    "        yVals.append(f(xVal))\n",
    "        xVal += step\n",
    "    pylab.plot(xVals, yVals)\n",
    "    pylab.title('sin(x)')\n",
    "    pylab.xlim(a, b)\n",
    "    xUnders, yUnders, xOvers, yOvers = [],[],[],[]\n",
    "    for i in range(500):\n",
    "        xVal = random.uniform(a, b)\n",
    "        yVal = random.uniform(0, 1)\n",
    "        if yVal < f(xVal):\n",
    "            xUnders.append(xVal)\n",
    "            yUnders.append(yVal)\n",
    "        else:\n",
    "            xOvers.append(xVal)\n",
    "            yOvers.append(yVal)\n",
    "    pylab.plot(xUnders, yUnders, 'ro')\n",
    "    pylab.plot(xOvers, yOvers, 'ko')\n",
    "    pylab.xlim(a, b)\n",
    "    ratio = len(xUnders)/(len(xUnders) + len(yUnders))\n",
    "    print(ratio)\n",
    "    print(ratio*b)"
   ]
  },
  {
   "cell_type": "markdown",
   "metadata": {},
   "source": [
    "### WTF??"
   ]
  },
  {
   "cell_type": "code",
   "execution_count": 20,
   "metadata": {},
   "outputs": [],
   "source": [
    "def one(x):\n",
    "    return 0.9"
   ]
  },
  {
   "cell_type": "code",
   "execution_count": null,
   "metadata": {},
   "outputs": [],
   "source": []
  },
  {
   "cell_type": "code",
   "execution_count": 22,
   "metadata": {},
   "outputs": [
    {
     "name": "stdout",
     "output_type": "stream",
     "text": [
      "0.5\n",
      "1.5707963267948966\n"
     ]
    },
    {
     "data": {
      "image/png": "[encoded data removed]",
      "text/plain": [
       "<Figure size 432x288 with 1 Axes>"
      ]
     },
     "metadata": {
      "needs_background": "light"
     },
     "output_type": "display_data"
    }
   ],
   "source": [
    "integrate(one, 0, math.pi, 0.001)"
   ]
  },
  {
   "cell_type": "code",
   "execution_count": null,
   "metadata": {},
   "outputs": [],
   "source": []
  },
  {
   "cell_type": "code",
   "execution_count": null,
   "metadata": {},
   "outputs": [],
   "source": []
  }
 ],
 "metadata": {
  "kernelspec": {
   "display_name": "Python 3",
   "language": "python",
   "name": "python3"
  },
  "language_info": {
   "codemirror_mode": {
    "name": "ipython",
    "version": 3
   },
   "file_extension": ".py",
   "mimetype": "text/x-python",
   "name": "python",
   "nbconvert_exporter": "python",
   "pygments_lexer": "ipython3",
   "version": "3.8.5"
  }
 },
 "nbformat": 4,
 "nbformat_minor": 4
}
